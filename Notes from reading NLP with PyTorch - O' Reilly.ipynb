{
 "cells": [
  {
   "cell_type": "markdown",
   "metadata": {},
   "source": [
    "Index\n",
    "<ol>\n",
    "    <li>Chapter 1</li>\n",
    "    <li>Chapter 2</li>\n",
    "</ol>"
   ]
  },
  {
   "cell_type": "markdown",
   "metadata": {},
   "source": [
    "<h1> Chapter 1</h1>"
   ]
  },
  {
   "cell_type": "markdown",
   "metadata": {},
   "source": [
    "<p>PyTorch - python based computational graph framework for deep learning algorithm inplementation</p>"
   ]
  },
  {
   "cell_type": "markdown",
   "metadata": {},
   "source": [
    "<h2>Supervised Learning Paradigm</h2>"
   ]
  },
  {
   "cell_type": "markdown",
   "metadata": {},
   "source": [
    "<img src=\"images/1.1.png\">"
   ]
  },
  {
   "cell_type": "markdown",
   "metadata": {},
   "source": [
    "- Observations:\n",
    "    items we want to make predictions about (denoted as \"x\" referred to as inputs)\n",
    "- Targets:\n",
    "    labels corresponding to an observation\n",
    "    what we're predicting\n",
    "    denoted as y\n",
    "    often called ground truth\n",
    "- Model:\n",
    "    mathematical expression/function\n",
    "    takes value x (observation) tries to predict y (target)\n",
    "- Parameters:\n",
    "    often reffered to as weights\n",
    "    parametrize the Model\n",
    "    w or w with a hat is normally used to to denote it\n",
    "- Predictions:\n",
    "    often referred to as estimates\n",
    "    value predicted by model\n",
    "    usually denoted as y with a hat\n",
    "- Loss function:\n",
    "    compares y hat (predictions) with y (ground truth/targets)\n",
    "    the loss value for each prediction is a scalar value\n",
    "    generally, lower loss is better\n",
    "    L denotes loss function"
   ]
  },
  {
   "cell_type": "markdown",
   "metadata": {},
   "source": [
    "<img src=\"images/1.2.png\">"
   ]
  },
  {
   "cell_type": "markdown",
   "metadata": {},
   "source": [
    "- the formal definition of the diagram"
   ]
  },
  {
   "cell_type": "markdown",
   "metadata": {},
   "source": [
    "<h2> Training using (stochastic) gradient descent</h2>"
   ]
  },
  {
   "cell_type": "markdown",
   "metadata": {},
   "source": [
    "- the goal is to minimize the loss function by adjusting the Parameters\n",
    "        - just like finding roots for an equation\n",
    "        - gradient descent (GD) is used to find roots for an equation\n",
    "        - GD is computationally expensive and takes a long amount of time\n",
    "        - thus stochastic gradient descent is used (SGD)\n",
    "        - subset of points are used \n",
    "            - PURE SGD is when one point is used\n",
    "            - minibatch SGD is when a subset of points is used and there's more than one point\n",
    "        - pure SGD is rarely used due to very slow convergence due to noisy updates\n",
    "        - multiple variants of SGD explored later\n",
    "        - iteravely updating parameters is called backpropagation\n"
   ]
  },
  {
   "cell_type": "markdown",
   "metadata": {},
   "source": [
    "<h2>Observation and Target Encoding</h2>"
   ]
  },
  {
   "cell_type": "markdown",
   "metadata": {},
   "source": [
    "- algorithnms do not take text as input and can only perform calculations on numbers\n",
    "    - thus we turn characters, words, sentences, paragraphs, etc. into a numerical representation\n",
    "    - 1.3.png\n",
    "    - One-Hot Representation:\n",
    "        - Indexes words in the universal set\n",
    "        - use a 1 if the word is present\n",
    "        - use a 0 if the word is not present\n",
    "        - Consider the following lines\n",
    "            Time flies like an arrow.\n",
    "            Fruit flies like a banana.\n",
    "        - universal set (vocab size) would yield {time, fruit, flies, like, a, an, arrow, banana}\n",
    "        - binary encoding for \"like a banana\" would be [0, 0, 0, 1, 1, 0, 0, 1]\n",
    "        - NOTE: two different meanings of flies are compressed to the same in one-hot"
   ]
  },
  {
   "cell_type": "markdown",
   "metadata": {},
   "source": [
    "<h3>Term - Frequency (TF)</h3>"
   ]
  },
  {
   "cell_type": "markdown",
   "metadata": {},
   "source": [
    "- sum of one hot representations of its consituent\n",
    "- Term-Frequency of a word is denoted by TF(w)"
   ]
  },
  {
   "cell_type": "code",
   "execution_count": 2,
   "metadata": {
    "ExecuteTime": {
     "end_time": "2019-09-25T05:03:53.326663Z",
     "start_time": "2019-09-25T05:03:47.844119Z"
    }
   },
   "outputs": [
    {
     "data": {
      "text/plain": [
       "<matplotlib.axes._subplots.AxesSubplot at 0x29c3c5fe908>"
      ]
     },
     "execution_count": 2,
     "metadata": {},
     "output_type": "execute_result"
    }
   ],
   "source": [
    "from sklearn.feature_extraction.text import CountVectorizer\n",
    "import seaborn as sns\n",
    "\n",
    "corpus = [\n",
    "    'Time flies flies like an arrow.',\n",
    "    'Fruit flies like a banana.'\n",
    "]\n",
    "\n",
    "one_hot_vectorizer = CountVectorizer(binary=True)\n",
    "one_hot = one_hot_vectorizer.fit_transform(corpus).toarray()\n",
    "sns.heatmap(\n",
    "    one_hot,\n",
    "    annot=True,\n",
    "    cbar=False,\n",
    "    xticklabels=[\n",
    "        'an',\n",
    "        'arrow',\n",
    "        'banana',\n",
    "        'flies',\n",
    "        'fruit',\n",
    "        'like',\n",
    "        'time'\n",
    "    ],\n",
    "    yticklabels=[\n",
    "        'Sentence 1',\n",
    "        'Sentence 2'\n",
    "    ]\n",
    ")"
   ]
  },
  {
   "cell_type": "markdown",
   "metadata": {},
   "source": [
    "<h3>Term Frequency Inverse Document Frequency (TF-IDF)</h3>"
   ]
  },
  {
   "cell_type": "markdown",
   "metadata": {},
   "source": [
    "- When words are repeated a lot in a document they provide less unique information\n",
    "- thus the IDF part of TF-IDF penalizes the weight of words that appear more often\n",
    "- IDF(w) = log(N/n_w)\n",
    "    where n_w is the number of docs with word w and N is total # of docs\n",
    "- NOTE: more common words across docs will be closer to value 0"
   ]
  },
  {
   "cell_type": "code",
   "execution_count": 3,
   "metadata": {
    "ExecuteTime": {
     "end_time": "2019-09-25T05:03:53.465251Z",
     "start_time": "2019-09-25T05:03:53.328628Z"
    }
   },
   "outputs": [
    {
     "data": {
      "text/plain": [
       "<matplotlib.axes._subplots.AxesSubplot at 0x29c3e822208>"
      ]
     },
     "execution_count": 3,
     "metadata": {},
     "output_type": "execute_result"
    },
    {
     "data": {
      "image/png": "[encoded data removed]",
      "text/plain": [
       "<Figure size 432x288 with 1 Axes>"
      ]
     },
     "metadata": {
      "needs_background": "light"
     },
     "output_type": "display_data"
    }
   ],
   "source": [
    "from sklearn.feature_extraction.text import TfidfVectorizer\n",
    "import seaborn as sns\n",
    "\n",
    "tfidf_vectorizer = TfidfVectorizer()\n",
    "tfidf = tfidf_vectorizer.fit_transform(corpus).toarray()\n",
    "sns.heatmap(\n",
    "    tfidf,\n",
    "    annot=True,\n",
    "    cbar=False,\n",
    "    xticklabels=[\n",
    "        'an',\n",
    "        'arrow',\n",
    "        'banana',\n",
    "        'flies',\n",
    "        'fruit',\n",
    "        'like',\n",
    "        'time'\n",
    "    ],\n",
    "    yticklabels=[\n",
    "        'Sentence 1',\n",
    "        'Sentence 2'\n",
    "    ]\n",
    ")"
   ]
  },
  {
   "cell_type": "markdown",
   "metadata": {},
   "source": [
    "- it is rare to see this used since it's better to learn a representation of words\n",
    "- since that way we lose less information (e.g. words with multiple meanings, how words belong to similar categores etc.)"
   ]
  },
  {
   "cell_type": "markdown",
   "metadata": {},
   "source": [
    "<h3>Target Encoding</h3>"
   ]
  },
  {
   "cell_type": "markdown",
   "metadata": {},
   "source": [
    "- Target variable depends on problem that is being solved\n",
    "- e.g. machine translation, summarization, question answering: target is text\n",
    "- in categorical, sometimes there are too many categories\n",
    "    - e.g. language modeling problem (predict next word) too many words thus problem revisited later\n",
    "- Numerical predictions\n",
    "    - e.g. predict a restaurant rating based on a review, grading an essay\n",
    "    - strategies include: binning numbers (0 - 18, 19 - 35, etc.)\n",
    "    - treat as ordinal classification problem"
   ]
  },
  {
   "cell_type": "markdown",
   "metadata": {},
   "source": [
    "<h2>Computational Graphs</h2>"
   ]
  },
  {
   "cell_type": "markdown",
   "metadata": {},
   "source": [
    "<img src=\"images/1.6.png\">"
   ]
  },
  {
   "cell_type": "markdown",
   "metadata": {},
   "source": [
    "- Computational Graphs are a type of data structure\n",
    "- abstraction model of mathematical expressions\n",
    "- e.g. TensorFlow PyTorch Theano\n",
    "- Computational graphs keep track of extra information for automatic differentiation to obtain gradients of parameters during training\n",
    "- inference is simply expression evaluation (forward flow on a computation graph)\n",
    "- Drawn as a directed acyclic graph (DAG)\n",
    "    - nodes are operations\n",
    "    - inputs are incoming edges\n",
    "    - output is outgoing edge"
   ]
  },
  {
   "cell_type": "markdown",
   "metadata": {},
   "source": [
    "<h2>PyTorch Basics</h2>"
   ]
  },
  {
   "cell_type": "markdown",
   "metadata": {},
   "source": [
    "- PyTorch: optimized tensor manipulation library for deep learning\n",
    "- open source, community driven deep learning framework\n",
    "- uses tape-based automatic differentiation (unlike theano, caffe, and tensorflow)\n",
    "    - allows user to define and execute computational graphs dynamically\n",
    "    - helpful for debugging & consturcting sophisticated models with less effort"
   ]
  },
  {
   "cell_type": "markdown",
   "metadata": {},
   "source": [
    "<h3>Dynamic vs Static Computational Graphs</h3>"
   ]
  },
  {
   "cell_type": "markdown",
   "metadata": {},
   "source": [
    "- Static Frameworks: Theano, Caffe, Tensorflow\n",
    "    - require computational graph to be, declared and compiled before execution\n",
    "    - provides more efficient implementations (useful for production and mobility)\n",
    "    - not really suitable for research and development\n",
    "- Dynamic Frameworks: Chainer, DyNet, Pytorch\n",
    "    - more flexible\n",
    "    - imperative style of development (does not require compilation before execution\n",
    "    - useful for NLP modelling tasks since each input could result in different graph structure"
   ]
  },
  {
   "cell_type": "markdown",
   "metadata": {},
   "source": [
    "<h3>Goals:</h3>\n",
    "<ul>\n",
    "    <li>Create Tensors</li>\n",
    "    <li>Operations with Tensors</li>\n",
    "    <li>Indexing, slicing, and joining tensors</li>\n",
    "    <li>Computing gradients with tensors</li>\n",
    "    <li>Using CUDA tensors with GPUS</li>\n",
    "</ul>"
   ]
  },
  {
   "cell_type": "markdown",
   "metadata": {
    "ExecuteTime": {
     "end_time": "2019-08-19T18:45:54.926420Z",
     "start_time": "2019-08-19T18:45:54.916465Z"
    }
   },
   "source": [
    "<h3>Installing PyTorch</h3>"
   ]
  },
  {
   "cell_type": "markdown",
   "metadata": {},
   "source": [
    "- pytorch.org has a menu which allows users to select their system setup and returns the command that needs to be run\n",
    "- e.g."
   ]
  },
  {
   "cell_type": "markdown",
   "metadata": {},
   "source": [
    "<img src='images/cmd.png'>\n"
   ]
  },
  {
   "cell_type": "code",
   "execution_count": 4,
   "metadata": {
    "ExecuteTime": {
     "end_time": "2019-09-25T05:03:54.823647Z",
     "start_time": "2019-09-25T05:03:53.468229Z"
    }
   },
   "outputs": [],
   "source": [
    "import torch"
   ]
  },
  {
   "cell_type": "markdown",
   "metadata": {},
   "source": [
    "<h3>Tensor</h3>"
   ]
  },
  {
   "cell_type": "markdown",
   "metadata": {},
   "source": [
    "- mathematical object holding some multi - dimensional data\n",
    "- tensor of order (rank) zero is just a number (scalar)\n",
    "- tensor of order (rank) one is an array of numbers (vector)\n",
    "- tensor of order (rank) two is a matrix\n",
    "- n dimensional array of scalars"
   ]
  },
  {
   "cell_type": "markdown",
   "metadata": {},
   "source": [
    "<h4>Creating Tensors</h4>"
   ]
  },
  {
   "cell_type": "markdown",
   "metadata": {},
   "source": [
    "- describe that returns\n",
    "    - tensor type\n",
    "    - dimension\n",
    "    - contents"
   ]
  },
  {
   "cell_type": "code",
   "execution_count": 5,
   "metadata": {
    "ExecuteTime": {
     "end_time": "2019-09-25T05:03:54.828982Z",
     "start_time": "2019-09-25T05:03:54.824988Z"
    }
   },
   "outputs": [],
   "source": [
    "def describe(x):\n",
    "    print(\"Type: {}\".format(x.type()))\n",
    "    print(\"Shape/size: {}\".format(x.shape))\n",
    "    print(\"Values: \\n{}\".format(x))"
   ]
  },
  {
   "cell_type": "markdown",
   "metadata": {},
   "source": [
    "- create tensor with random contents but specified dimensions"
   ]
  },
  {
   "cell_type": "code",
   "execution_count": 6,
   "metadata": {
    "ExecuteTime": {
     "end_time": "2019-09-25T05:03:54.851913Z",
     "start_time": "2019-09-25T05:03:54.830969Z"
    },
    "scrolled": true
   },
   "outputs": [
    {
     "name": "stdout",
     "output_type": "stream",
     "text": [
      "Type: torch.FloatTensor\n",
      "Shape/size: torch.Size([2, 3])\n",
      "Values: \n",
      "tensor([[7.2874e-03, 9.3607e-43, 7.2874e-03],\n",
      "        [9.3607e-43, 3.7096e-03, 9.3607e-43]])\n"
     ]
    }
   ],
   "source": [
    "describe(torch.Tensor(2, 3))"
   ]
  },
  {
   "cell_type": "markdown",
   "metadata": {},
   "source": [
    "- create tensor with random values from\n",
    "    - uniform distribution\n",
    "    - normal distribution"
   ]
  },
  {
   "cell_type": "code",
   "execution_count": 7,
   "metadata": {
    "ExecuteTime": {
     "end_time": "2019-09-25T05:03:54.866873Z",
     "start_time": "2019-09-25T05:03:54.853908Z"
    }
   },
   "outputs": [
    {
     "name": "stdout",
     "output_type": "stream",
     "text": [
      "Type: torch.FloatTensor\n",
      "Shape/size: torch.Size([2, 3])\n",
      "Values: \n",
      "tensor([[0.6917, 0.7362, 0.4888],\n",
      "        [0.1274, 0.9771, 0.5449]])\n"
     ]
    }
   ],
   "source": [
    "describe(torch.rand(2, 3))"
   ]
  },
  {
   "cell_type": "code",
   "execution_count": 8,
   "metadata": {
    "ExecuteTime": {
     "end_time": "2019-09-25T05:03:54.880835Z",
     "start_time": "2019-09-25T05:03:54.869866Z"
    }
   },
   "outputs": [
    {
     "name": "stdout",
     "output_type": "stream",
     "text": [
      "Type: torch.FloatTensor\n",
      "Shape/size: torch.Size([2, 3])\n",
      "Values: \n",
      "tensor([[-0.1667,  0.4128,  1.4983],\n",
      "        [ 0.3506, -0.3451,  1.0583]])\n"
     ]
    }
   ],
   "source": [
    "describe(torch.randn(2, 3))"
   ]
  },
  {
   "cell_type": "markdown",
   "metadata": {},
   "source": [
    "- create tensor filled with\n",
    "    - zeros\n",
    "    - ones"
   ]
  },
  {
   "cell_type": "code",
   "execution_count": 9,
   "metadata": {
    "ExecuteTime": {
     "end_time": "2019-09-25T05:03:54.894800Z",
     "start_time": "2019-09-25T05:03:54.884824Z"
    }
   },
   "outputs": [
    {
     "name": "stdout",
     "output_type": "stream",
     "text": [
      "Type: torch.FloatTensor\n",
      "Shape/size: torch.Size([2, 3])\n",
      "Values: \n",
      "tensor([[0., 0., 0.],\n",
      "        [0., 0., 0.]])\n"
     ]
    }
   ],
   "source": [
    "describe(torch.zeros(2, 3))"
   ]
  },
  {
   "cell_type": "code",
   "execution_count": 10,
   "metadata": {
    "ExecuteTime": {
     "end_time": "2019-09-25T05:03:54.908762Z",
     "start_time": "2019-09-25T05:03:54.897792Z"
    }
   },
   "outputs": [
    {
     "name": "stdout",
     "output_type": "stream",
     "text": [
      "Type: torch.FloatTensor\n",
      "Shape/size: torch.Size([2, 3])\n",
      "Values: \n",
      "tensor([[1., 1., 1.],\n",
      "        [1., 1., 1.]])\n"
     ]
    }
   ],
   "source": [
    "describe(torch.ones(2, 3))"
   ]
  },
  {
   "cell_type": "markdown",
   "metadata": {},
   "source": [
    "- create tensor filled with any scalar"
   ]
  },
  {
   "cell_type": "code",
   "execution_count": 11,
   "metadata": {
    "ExecuteTime": {
     "end_time": "2019-09-25T05:03:54.923721Z",
     "start_time": "2019-09-25T05:03:54.911762Z"
    }
   },
   "outputs": [
    {
     "name": "stdout",
     "output_type": "stream",
     "text": [
      "Type: torch.FloatTensor\n",
      "Shape/size: torch.Size([2, 3])\n",
      "Values: \n",
      "tensor([[9., 9., 9.],\n",
      "        [9., 9., 9.]])\n"
     ]
    }
   ],
   "source": [
    "x = torch.ones(2, 3)\n",
    "x.fill_(9)\n",
    "describe(x)"
   ]
  },
  {
   "cell_type": "markdown",
   "metadata": {},
   "source": [
    "Note: Any PyTorch method with underscore (e.g. fill_()) refers to an in - place operation, it modifies content in place without creating a new object"
   ]
  },
  {
   "cell_type": "markdown",
   "metadata": {},
   "source": [
    "- create tensor from python lists"
   ]
  },
  {
   "cell_type": "code",
   "execution_count": 12,
   "metadata": {
    "ExecuteTime": {
     "end_time": "2019-09-25T05:03:54.936686Z",
     "start_time": "2019-09-25T05:03:54.924719Z"
    },
    "scrolled": true
   },
   "outputs": [
    {
     "name": "stdout",
     "output_type": "stream",
     "text": [
      "Type: torch.FloatTensor\n",
      "Shape/size: torch.Size([2, 3])\n",
      "Values: \n",
      "tensor([[1., 2., 3.],\n",
      "        [4., 5., 6.]])\n"
     ]
    }
   ],
   "source": [
    "describe(torch.Tensor([[1, 2, 3],\n",
    "                        [4, 5, 6]]))"
   ]
  },
  {
   "cell_type": "markdown",
   "metadata": {},
   "source": [
    "- create tensor from numpy array\n",
    "    - we can also make numpy arrays with tensors"
   ]
  },
  {
   "cell_type": "code",
   "execution_count": 13,
   "metadata": {
    "ExecuteTime": {
     "end_time": "2019-09-25T05:03:54.954638Z",
     "start_time": "2019-09-25T05:03:54.938682Z"
    }
   },
   "outputs": [
    {
     "name": "stdout",
     "output_type": "stream",
     "text": [
      "Type: torch.DoubleTensor\n",
      "Shape/size: torch.Size([2, 3])\n",
      "Values: \n",
      "tensor([[0.3837, 0.0963, 0.0373],\n",
      "        [0.9140, 0.3486, 0.4744]], dtype=torch.float64)\n"
     ]
    }
   ],
   "source": [
    "import numpy as np\n",
    "npy = np.random.rand(2, 3)\n",
    "describe(torch.from_numpy(npy))"
   ]
  },
  {
   "cell_type": "markdown",
   "metadata": {},
   "source": [
    "<h4>Tensor Types and Sizes</h4>"
   ]
  },
  {
   "cell_type": "markdown",
   "metadata": {},
   "source": [
    "- default type when using torch.Tensor(): torch.FloatTensor\n",
    "- tensor types (float, long, double, etc.) can be converted 2 ways"
   ]
  },
  {
   "cell_type": "markdown",
   "metadata": {},
   "source": [
    "- during initialization (2 ways to initialize)\n",
    "    - calling type specific object constructor\n",
    "        - e.g. torch.FloatTensor() or torch.LongTensor()\n",
    "    - or passing a keyword arguement to torch.Tensor() with the torch data type\n",
    "        - e.g. torch.Tensor(..., dtype=torch.int64)\n",
    "-  type casting methods\n",
    "    - e.g. torch.Tensor(...).double()"
   ]
  },
  {
   "cell_type": "code",
   "execution_count": 14,
   "metadata": {
    "ExecuteTime": {
     "end_time": "2019-09-25T05:03:54.969611Z",
     "start_time": "2019-09-25T05:03:54.956634Z"
    }
   },
   "outputs": [
    {
     "name": "stdout",
     "output_type": "stream",
     "text": [
      "Type: torch.FloatTensor\n",
      "Shape/size: torch.Size([2, 3])\n",
      "Values: \n",
      "tensor([[1., 2., 3.],\n",
      "        [4., 5., 6.]])\n"
     ]
    }
   ],
   "source": [
    "describe(torch.FloatTensor([[1, 2, 3],\n",
    "                        [4, 5, 6]]))"
   ]
  },
  {
   "cell_type": "code",
   "execution_count": 15,
   "metadata": {
    "ExecuteTime": {
     "end_time": "2019-09-25T05:03:54.980570Z",
     "start_time": "2019-09-25T05:03:54.971593Z"
    }
   },
   "outputs": [
    {
     "name": "stdout",
     "output_type": "stream",
     "text": [
      "Type: torch.LongTensor\n",
      "Shape/size: torch.Size([2, 3])\n",
      "Values: \n",
      "tensor([[1, 2, 3],\n",
      "        [4, 5, 6]])\n"
     ]
    }
   ],
   "source": [
    "describe(torch.FloatTensor([[1, 2, 3],\n",
    "                        [4, 5, 6]]).long())"
   ]
  },
  {
   "cell_type": "code",
   "execution_count": 16,
   "metadata": {
    "ExecuteTime": {
     "end_time": "2019-09-25T05:03:54.991541Z",
     "start_time": "2019-09-25T05:03:54.982565Z"
    }
   },
   "outputs": [
    {
     "name": "stdout",
     "output_type": "stream",
     "text": [
      "Type: torch.LongTensor\n",
      "Shape/size: torch.Size([2, 3])\n",
      "Values: \n",
      "tensor([[1, 2, 3],\n",
      "        [4, 5, 6]])\n"
     ]
    }
   ],
   "source": [
    "describe(torch.tensor([[1, 2, 3],[4, 5, 6]], dtype=torch.int64))"
   ]
  },
  {
   "cell_type": "code",
   "execution_count": 17,
   "metadata": {
    "ExecuteTime": {
     "end_time": "2019-09-25T05:03:55.003509Z",
     "start_time": "2019-09-25T05:03:54.993537Z"
    }
   },
   "outputs": [
    {
     "name": "stdout",
     "output_type": "stream",
     "text": [
      "Type: torch.FloatTensor\n",
      "Shape/size: torch.Size([2, 3])\n",
      "Values: \n",
      "tensor([[1., 2., 3.],\n",
      "        [4., 5., 6.]])\n"
     ]
    }
   ],
   "source": [
    "describe(torch.tensor([[1, 2, 3],[4, 5, 6]], dtype=torch.int64).float())"
   ]
  },
  {
   "cell_type": "markdown",
   "metadata": {},
   "source": [
    "<h4>Tensor Operations</h4>"
   ]
  },
  {
   "cell_type": "markdown",
   "metadata": {},
   "source": [
    "- tensors come with two methods of operation:\n",
    "    - using operator symbols: +, -, *, /\n",
    "    - using operator methods: .add()"
   ]
  },
  {
   "cell_type": "code",
   "execution_count": 18,
   "metadata": {
    "ExecuteTime": {
     "end_time": "2019-09-25T05:03:55.008496Z",
     "start_time": "2019-09-25T05:03:55.005502Z"
    }
   },
   "outputs": [],
   "source": [
    "x = torch.randn(2, 3)"
   ]
  },
  {
   "cell_type": "code",
   "execution_count": 19,
   "metadata": {
    "ExecuteTime": {
     "end_time": "2019-09-25T05:03:55.021459Z",
     "start_time": "2019-09-25T05:03:55.010491Z"
    }
   },
   "outputs": [
    {
     "name": "stdout",
     "output_type": "stream",
     "text": [
      "Type: torch.FloatTensor\n",
      "Shape/size: torch.Size([2, 3])\n",
      "Values: \n",
      "tensor([[-1.8169,  0.4170,  2.1024],\n",
      "        [-0.4176,  0.8028, -0.2204]])\n"
     ]
    }
   ],
   "source": [
    "describe(x)"
   ]
  },
  {
   "cell_type": "code",
   "execution_count": 20,
   "metadata": {
    "ExecuteTime": {
     "end_time": "2019-09-25T05:03:55.033427Z",
     "start_time": "2019-09-25T05:03:55.022457Z"
    }
   },
   "outputs": [
    {
     "name": "stdout",
     "output_type": "stream",
     "text": [
      "Type: torch.FloatTensor\n",
      "Shape/size: torch.Size([2, 3])\n",
      "Values: \n",
      "tensor([[-3.6339,  0.8340,  4.2049],\n",
      "        [-0.8352,  1.6057, -0.4408]])\n"
     ]
    }
   ],
   "source": [
    "describe(x + x)"
   ]
  },
  {
   "cell_type": "code",
   "execution_count": 21,
   "metadata": {
    "ExecuteTime": {
     "end_time": "2019-09-25T05:03:55.043401Z",
     "start_time": "2019-09-25T05:03:55.034424Z"
    }
   },
   "outputs": [
    {
     "name": "stdout",
     "output_type": "stream",
     "text": [
      "Type: torch.FloatTensor\n",
      "Shape/size: torch.Size([2, 3])\n",
      "Values: \n",
      "tensor([[-3.6339,  0.8340,  4.2049],\n",
      "        [-0.8352,  1.6057, -0.4408]])\n"
     ]
    }
   ],
   "source": [
    "describe(torch.add(x, x))"
   ]
  },
  {
   "cell_type": "markdown",
   "metadata": {},
   "source": [
    "- other methods\n",
    "    - torch.arange(int)\n",
    "        - creates a rank one tensor that starts at the 0th position and increments\n",
    "    - \"tensor\".view(int, int)\n",
    "        - reshapes a tensor to the new dimensions\n",
    "    - torch.sum(\"tensor\", dim=0)\n",
    "        - sums elements in the same column\n",
    "    - torch.sum(\"tensor\", dim=1)\n",
    "        - sums elements in the same row\n",
    "    - torch.transpose(\"tensor\", 0, 1)\n",
    "        - transposes the tensor based on the given dimensions"
   ]
  },
  {
   "cell_type": "code",
   "execution_count": 22,
   "metadata": {
    "ExecuteTime": {
     "end_time": "2019-09-25T05:03:55.053376Z",
     "start_time": "2019-09-25T05:03:55.045397Z"
    }
   },
   "outputs": [
    {
     "name": "stdout",
     "output_type": "stream",
     "text": [
      "Type: torch.LongTensor\n",
      "Shape/size: torch.Size([6])\n",
      "Values: \n",
      "tensor([0, 1, 2, 3, 4, 5])\n"
     ]
    }
   ],
   "source": [
    "x = torch.arange(6)\n",
    "describe(x)"
   ]
  },
  {
   "cell_type": "code",
   "execution_count": 23,
   "metadata": {
    "ExecuteTime": {
     "end_time": "2019-09-25T05:03:55.063349Z",
     "start_time": "2019-09-25T05:03:55.055371Z"
    }
   },
   "outputs": [
    {
     "name": "stdout",
     "output_type": "stream",
     "text": [
      "Type: torch.LongTensor\n",
      "Shape/size: torch.Size([2, 3])\n",
      "Values: \n",
      "tensor([[0, 1, 2],\n",
      "        [3, 4, 5]])\n"
     ]
    }
   ],
   "source": [
    "y = x.view(2, 3)\n",
    "describe(y)"
   ]
  },
  {
   "cell_type": "code",
   "execution_count": 24,
   "metadata": {
    "ExecuteTime": {
     "end_time": "2019-09-25T05:03:55.078330Z",
     "start_time": "2019-09-25T05:03:55.068355Z"
    }
   },
   "outputs": [
    {
     "name": "stdout",
     "output_type": "stream",
     "text": [
      "Type: torch.LongTensor\n",
      "Shape/size: torch.Size([3])\n",
      "Values: \n",
      "tensor([3, 5, 7])\n"
     ]
    }
   ],
   "source": [
    "describe(torch.sum(y, dim=0))"
   ]
  },
  {
   "cell_type": "code",
   "execution_count": 25,
   "metadata": {
    "ExecuteTime": {
     "end_time": "2019-09-25T05:03:55.088307Z",
     "start_time": "2019-09-25T05:03:55.081301Z"
    }
   },
   "outputs": [
    {
     "name": "stdout",
     "output_type": "stream",
     "text": [
      "Type: torch.LongTensor\n",
      "Shape/size: torch.Size([2])\n",
      "Values: \n",
      "tensor([ 3, 12])\n"
     ]
    }
   ],
   "source": [
    "describe(torch.sum(y, dim=1))"
   ]
  },
  {
   "cell_type": "code",
   "execution_count": 26,
   "metadata": {
    "ExecuteTime": {
     "end_time": "2019-09-25T05:03:55.104240Z",
     "start_time": "2019-09-25T05:03:55.090275Z"
    }
   },
   "outputs": [
    {
     "name": "stdout",
     "output_type": "stream",
     "text": [
      "Type: torch.LongTensor\n",
      "Shape/size: torch.Size([3, 2])\n",
      "Values: \n",
      "tensor([[0, 3],\n",
      "        [1, 4],\n",
      "        [2, 5]])\n"
     ]
    }
   ],
   "source": [
    "describe(torch.transpose(y, 0, 1))"
   ]
  },
  {
   "cell_type": "markdown",
   "metadata": {},
   "source": [
    "<h4>Indexing, and Slicing</h4>"
   ]
  },
  {
   "cell_type": "code",
   "execution_count": 27,
   "metadata": {
    "ExecuteTime": {
     "end_time": "2019-09-25T05:03:55.113234Z",
     "start_time": "2019-09-25T05:03:55.106233Z"
    }
   },
   "outputs": [
    {
     "name": "stdout",
     "output_type": "stream",
     "text": [
      "Type: torch.LongTensor\n",
      "Shape/size: torch.Size([2, 3])\n",
      "Values: \n",
      "tensor([[0, 1, 2],\n",
      "        [3, 4, 5]])\n"
     ]
    }
   ],
   "source": [
    "x = torch.arange(6).view(2, 3)\n",
    "describe(x)"
   ]
  },
  {
   "cell_type": "code",
   "execution_count": 28,
   "metadata": {
    "ExecuteTime": {
     "end_time": "2019-09-25T05:03:55.123189Z",
     "start_time": "2019-09-25T05:03:55.114212Z"
    }
   },
   "outputs": [
    {
     "name": "stdout",
     "output_type": "stream",
     "text": [
      "Type: torch.LongTensor\n",
      "Shape/size: torch.Size([1, 2])\n",
      "Values: \n",
      "tensor([[0, 1]])\n"
     ]
    }
   ],
   "source": [
    "describe(x[:1, :2])"
   ]
  },
  {
   "cell_type": "code",
   "execution_count": 29,
   "metadata": {
    "ExecuteTime": {
     "end_time": "2019-09-25T05:03:55.135155Z",
     "start_time": "2019-09-25T05:03:55.125181Z"
    }
   },
   "outputs": [
    {
     "name": "stdout",
     "output_type": "stream",
     "text": [
      "Type: torch.LongTensor\n",
      "Shape/size: torch.Size([])\n",
      "Values: \n",
      "1\n"
     ]
    }
   ],
   "source": [
    "describe(x[0,1])"
   ]
  },
  {
   "cell_type": "code",
   "execution_count": 30,
   "metadata": {
    "ExecuteTime": {
     "end_time": "2019-09-25T05:03:55.151113Z",
     "start_time": "2019-09-25T05:03:55.137150Z"
    }
   },
   "outputs": [
    {
     "name": "stdout",
     "output_type": "stream",
     "text": [
      "Type: torch.LongTensor\n",
      "Shape/size: torch.Size([2, 2])\n",
      "Values: \n",
      "tensor([[0, 2],\n",
      "        [3, 5]])\n"
     ]
    }
   ],
   "source": [
    "indices = torch.LongTensor([0, 2])\n",
    "describe(torch.index_select(x, dim=1, index=indices))"
   ]
  },
  {
   "cell_type": "code",
   "execution_count": 31,
   "metadata": {
    "ExecuteTime": {
     "end_time": "2019-09-25T05:03:55.160089Z",
     "start_time": "2019-09-25T05:03:55.152109Z"
    }
   },
   "outputs": [
    {
     "name": "stdout",
     "output_type": "stream",
     "text": [
      "Type: torch.LongTensor\n",
      "Shape/size: torch.Size([2, 3])\n",
      "Values: \n",
      "tensor([[0, 1, 2],\n",
      "        [0, 1, 2]])\n"
     ]
    }
   ],
   "source": [
    "indices = torch.LongTensor([0, 0])\n",
    "describe(torch.index_select(x, dim=0, index=indices))"
   ]
  },
  {
   "cell_type": "code",
   "execution_count": 32,
   "metadata": {
    "ExecuteTime": {
     "end_time": "2019-09-25T05:03:55.174078Z",
     "start_time": "2019-09-25T05:03:55.162111Z"
    }
   },
   "outputs": [
    {
     "name": "stdout",
     "output_type": "stream",
     "text": [
      "Type: torch.LongTensor\n",
      "Shape/size: torch.Size([2])\n",
      "Values: \n",
      "tensor([0, 4])\n"
     ]
    }
   ],
   "source": [
    "row_indices = torch.arange(2).long()\n",
    "col_indices = torch.LongTensor([0, 1])\n",
    "describe(x[row_indices, col_indices])"
   ]
  },
  {
   "cell_type": "markdown",
   "metadata": {},
   "source": [
    "Note: Indices must be of type torch.LongTensor"
   ]
  },
  {
   "cell_type": "markdown",
   "metadata": {},
   "source": [
    "<h4>Concatenation/Joining</h4>"
   ]
  },
  {
   "cell_type": "code",
   "execution_count": 33,
   "metadata": {
    "ExecuteTime": {
     "end_time": "2019-09-25T05:03:55.183027Z",
     "start_time": "2019-09-25T05:03:55.176072Z"
    }
   },
   "outputs": [
    {
     "name": "stdout",
     "output_type": "stream",
     "text": [
      "Type: torch.LongTensor\n",
      "Shape/size: torch.Size([2, 3])\n",
      "Values: \n",
      "tensor([[0, 1, 2],\n",
      "        [3, 4, 5]])\n"
     ]
    }
   ],
   "source": [
    "x = torch.arange(6).view(2,3)\n",
    "describe(x)"
   ]
  },
  {
   "cell_type": "code",
   "execution_count": 34,
   "metadata": {
    "ExecuteTime": {
     "end_time": "2019-09-25T05:03:55.196020Z",
     "start_time": "2019-09-25T05:03:55.185022Z"
    }
   },
   "outputs": [
    {
     "name": "stdout",
     "output_type": "stream",
     "text": [
      "Type: torch.LongTensor\n",
      "Shape/size: torch.Size([4, 3])\n",
      "Values: \n",
      "tensor([[0, 1, 2],\n",
      "        [3, 4, 5],\n",
      "        [0, 1, 2],\n",
      "        [3, 4, 5]])\n"
     ]
    }
   ],
   "source": [
    "describe(torch.cat([x, x], dim=0))"
   ]
  },
  {
   "cell_type": "code",
   "execution_count": 35,
   "metadata": {
    "ExecuteTime": {
     "end_time": "2019-09-25T05:03:55.205968Z",
     "start_time": "2019-09-25T05:03:55.198014Z"
    }
   },
   "outputs": [
    {
     "name": "stdout",
     "output_type": "stream",
     "text": [
      "Type: torch.LongTensor\n",
      "Shape/size: torch.Size([2, 6])\n",
      "Values: \n",
      "tensor([[0, 1, 2, 0, 1, 2],\n",
      "        [3, 4, 5, 3, 4, 5]])\n"
     ]
    }
   ],
   "source": [
    "describe(torch.cat([x, x],dim=1))"
   ]
  },
  {
   "cell_type": "code",
   "execution_count": 36,
   "metadata": {
    "ExecuteTime": {
     "end_time": "2019-09-25T05:03:55.215940Z",
     "start_time": "2019-09-25T05:03:55.207960Z"
    }
   },
   "outputs": [
    {
     "name": "stdout",
     "output_type": "stream",
     "text": [
      "Type: torch.LongTensor\n",
      "Shape/size: torch.Size([2, 2, 3])\n",
      "Values: \n",
      "tensor([[[0, 1, 2],\n",
      "         [3, 4, 5]],\n",
      "\n",
      "        [[0, 1, 2],\n",
      "         [3, 4, 5]]])\n"
     ]
    }
   ],
   "source": [
    "describe(torch.stack([x, x]))"
   ]
  },
  {
   "cell_type": "markdown",
   "metadata": {
    "ExecuteTime": {
     "end_time": "2019-08-24T20:26:26.540957Z",
     "start_time": "2019-08-24T20:26:26.535975Z"
    }
   },
   "source": [
    "<h4>Multiplication, inverse, and trace</h4>"
   ]
  },
  {
   "cell_type": "code",
   "execution_count": 37,
   "metadata": {
    "ExecuteTime": {
     "end_time": "2019-09-25T05:03:55.226910Z",
     "start_time": "2019-09-25T05:03:55.216938Z"
    }
   },
   "outputs": [
    {
     "name": "stdout",
     "output_type": "stream",
     "text": [
      "Type: torch.FloatTensor\n",
      "Shape/size: torch.Size([2, 3])\n",
      "Values: \n",
      "tensor([[0., 1., 2.],\n",
      "        [3., 4., 5.]])\n"
     ]
    }
   ],
   "source": [
    "x1 = x.float()\n",
    "describe(x1)"
   ]
  },
  {
   "cell_type": "code",
   "execution_count": 38,
   "metadata": {
    "ExecuteTime": {
     "end_time": "2019-09-25T05:03:55.238879Z",
     "start_time": "2019-09-25T05:03:55.228905Z"
    }
   },
   "outputs": [
    {
     "name": "stdout",
     "output_type": "stream",
     "text": [
      "Type: torch.FloatTensor\n",
      "Shape/size: torch.Size([3, 2])\n",
      "Values: \n",
      "tensor([[1., 2.],\n",
      "        [1., 2.],\n",
      "        [1., 2.]])\n"
     ]
    }
   ],
   "source": [
    "x2 = torch.ones(3, 2)\n",
    "x2[:, 1] += 1\n",
    "describe(x2)"
   ]
  },
  {
   "cell_type": "code",
   "execution_count": 39,
   "metadata": {
    "ExecuteTime": {
     "end_time": "2019-09-25T05:03:55.258845Z",
     "start_time": "2019-09-25T05:03:55.240875Z"
    }
   },
   "outputs": [
    {
     "name": "stdout",
     "output_type": "stream",
     "text": [
      "Type: torch.FloatTensor\n",
      "Shape/size: torch.Size([2, 2])\n",
      "Values: \n",
      "tensor([[ 3.,  6.],\n",
      "        [12., 24.]])\n"
     ]
    }
   ],
   "source": [
    "describe(torch.mm(x1, x2))"
   ]
  },
  {
   "cell_type": "markdown",
   "metadata": {},
   "source": [
    "<h3>Tensors and Computational Graphs</h3>"
   ]
  },
  {
   "cell_type": "markdown",
   "metadata": {},
   "source": [
    "- Tensors encapsulate (OOP paradigm which means to bundle) data, algebraic operations, indexing reshaping etc.\n",
    "- when boolean flag 'requires_grad' is set to True the tensor can then keep track of gradient and gradient function\n",
    "    - needed for the gradient based learning\n",
    "- PyTorch logic:\n",
    "    - tracks values of forward pass\n",
    "    - at computation end scalar is used to compute a backward pass \n",
    "        - initiated by 'backward()' method on tensor resulting from evaluation on loss function\n",
    "    - computes gradient value for each tensor object that participated in forward pass        "
   ]
  },
  {
   "cell_type": "code",
   "execution_count": 40,
   "metadata": {
    "ExecuteTime": {
     "end_time": "2019-09-25T05:03:55.270810Z",
     "start_time": "2019-09-25T05:03:55.259821Z"
    }
   },
   "outputs": [
    {
     "name": "stdout",
     "output_type": "stream",
     "text": [
      "Type: torch.FloatTensor\n",
      "Shape/size: torch.Size([2, 2])\n",
      "Values: \n",
      "tensor([[1., 1.],\n",
      "        [1., 1.]], requires_grad=True)\n",
      "True\n"
     ]
    }
   ],
   "source": [
    "x = torch.ones(2, 2, requires_grad=True)\n",
    "describe(x)\n",
    "print(x.grad is None)"
   ]
  },
  {
   "cell_type": "code",
   "execution_count": 41,
   "metadata": {
    "ExecuteTime": {
     "end_time": "2019-09-25T05:03:55.283758Z",
     "start_time": "2019-09-25T05:03:55.272787Z"
    }
   },
   "outputs": [
    {
     "name": "stdout",
     "output_type": "stream",
     "text": [
      "Type: torch.FloatTensor\n",
      "Shape/size: torch.Size([2, 2])\n",
      "Values: \n",
      "tensor([[21., 21.],\n",
      "        [21., 21.]], grad_fn=<AddBackward0>)\n",
      "True\n"
     ]
    }
   ],
   "source": [
    "y = (x + 2) * (x + 5) + 3\n",
    "describe(y)\n",
    "print(x.grad is None)"
   ]
  },
  {
   "cell_type": "code",
   "execution_count": 42,
   "metadata": {
    "ExecuteTime": {
     "end_time": "2019-09-25T05:03:55.436379Z",
     "start_time": "2019-09-25T05:03:55.284757Z"
    }
   },
   "outputs": [
    {
     "name": "stdout",
     "output_type": "stream",
     "text": [
      "Type: torch.FloatTensor\n",
      "Shape/size: torch.Size([])\n",
      "Values: \n",
      "21.0\n",
      "False\n"
     ]
    }
   ],
   "source": [
    "z = y.mean()\n",
    "describe(z)\n",
    "z.backward()\n",
    "print(x.grad is None)"
   ]
  },
  {
   "cell_type": "markdown",
   "metadata": {},
   "source": [
    "Gradients\n",
    "General:\n",
    "- a value that represents the slope of output with respect to input\n",
    "Computational Graph specific\n",
    "- gradients exist for each parameter of model\n",
    "    - can be thought as contribution to final error\n",
    "- '.grad' returns the gradient of a node in the computational graph"
   ]
  },
  {
   "cell_type": "markdown",
   "metadata": {},
   "source": [
    "<h3>CUDA Tensors</h3>"
   ]
  },
  {
   "cell_type": "markdown",
   "metadata": {},
   "source": [
    "- all tensors have been allocated on CPU\n",
    "- when doing linear algebra operations, we should utilize the GPU if we have one\n",
    "- to use GPU, tensor's must be GPU allocated\n",
    "- CUDA API gives access to GPU\n",
    "- created by NVIDIA for NVIDIA GPUs\n",
    "- Torch offers CUDA tensor objects which are indistinguishable from regular CPU tensors except for how they are allocated"
   ]
  },
  {
   "cell_type": "markdown",
   "metadata": {},
   "source": [
    "- in Torch it's easy to create CUDA tensors, transfer from CPU to GPU while maintaining type\n",
    "- preferred way to write code is to be device agnostic, so it works whether or not it's GPU or CPU\n",
    "- example\n",
    "    - check if GPU is available\n",
    "    - if so retrieve the GPU as a device\n",
    "    - then all future tensors are moved to that device"
   ]
  },
  {
   "cell_type": "code",
   "execution_count": 43,
   "metadata": {
    "ExecuteTime": {
     "end_time": "2019-09-25T05:03:55.445325Z",
     "start_time": "2019-09-25T05:03:55.437346Z"
    }
   },
   "outputs": [
    {
     "name": "stdout",
     "output_type": "stream",
     "text": [
      "True\n"
     ]
    }
   ],
   "source": [
    "print(torch.cuda.is_available())"
   ]
  },
  {
   "cell_type": "code",
   "execution_count": 44,
   "metadata": {
    "ExecuteTime": {
     "end_time": "2019-09-25T05:03:55.456330Z",
     "start_time": "2019-09-25T05:03:55.447322Z"
    }
   },
   "outputs": [
    {
     "name": "stdout",
     "output_type": "stream",
     "text": [
      "cuda\n"
     ]
    }
   ],
   "source": [
    "# preferred method: dvice agnostic tenor instantiation\n",
    "device = torch.device(\"cuda\" if torch.cuda.is_available() else \"cpu\")\n",
    "print(device)"
   ]
  },
  {
   "cell_type": "code",
   "execution_count": 45,
   "metadata": {
    "ExecuteTime": {
     "end_time": "2019-09-25T05:03:58.853954Z",
     "start_time": "2019-09-25T05:03:55.458292Z"
    }
   },
   "outputs": [
    {
     "name": "stdout",
     "output_type": "stream",
     "text": [
      "Type: torch.cuda.FloatTensor\n",
      "Shape/size: torch.Size([3, 3])\n",
      "Values: \n",
      "tensor([[0.4922, 0.5687, 0.2511],\n",
      "        [0.5676, 0.5831, 0.4662],\n",
      "        [0.9803, 0.4133, 0.0200]], device='cuda:0')\n"
     ]
    }
   ],
   "source": [
    "x = torch.rand(3, 3).to(device)\n",
    "describe(x)"
   ]
  },
  {
   "cell_type": "markdown",
   "metadata": {},
   "source": [
    "- operations between objects must be between objects on the same device\n",
    "- moving data in and out of GPU is expensive\n",
    "- typical procedure:\n",
    "    - parallelizable computations on GPU then transfer final result to CPU\n",
    "- if you have several CUDA-visible devices (multiple GPUs) use CUDA_VISIBLE_DEVICES environment variable when exectuing program\n",
    "    - 'CUDA_VISIBLE_DEVICES=0,1,2,3 python main.py'\n",
    "- parallelism and multi-GPU training not covered but essential to scale and train large models\n",
    "    - refer to Torch Docs and discussion forums"
   ]
  },
  {
   "cell_type": "markdown",
   "metadata": {},
   "source": [
    "<h2>Exercises</h2>"
   ]
  },
  {
   "cell_type": "markdown",
   "metadata": {},
   "source": [
    "1"
   ]
  },
  {
   "cell_type": "code",
   "execution_count": 46,
   "metadata": {
    "ExecuteTime": {
     "end_time": "2019-09-25T05:03:58.879919Z",
     "start_time": "2019-09-25T05:03:58.855947Z"
    }
   },
   "outputs": [
    {
     "name": "stdout",
     "output_type": "stream",
     "text": [
      "Type: torch.FloatTensor\n",
      "Shape/size: torch.Size([1, 3, 3])\n",
      "Values: \n",
      "tensor([[[0.4270, 0.5472, 0.2485],\n",
      "         [0.8538, 0.4119, 0.2488],\n",
      "         [0.2655, 0.2981, 0.2311]]])\n",
      "Type: torch.FloatTensor\n",
      "Shape/size: torch.Size([1, 3, 3])\n",
      "Values: \n",
      "tensor([[[0.4270, 0.5472, 0.2485],\n",
      "         [0.8538, 0.4119, 0.2488],\n",
      "         [0.2655, 0.2981, 0.2311]]])\n",
      "Type: torch.FloatTensor\n",
      "Shape/size: torch.Size([1, 3, 3])\n",
      "Values: \n",
      "tensor([[[0.4270, 0.5472, 0.2485],\n",
      "         [0.8538, 0.4119, 0.2488],\n",
      "         [0.2655, 0.2981, 0.2311]]])\n"
     ]
    }
   ],
   "source": [
    "one = torch.rand(3, 3)\n",
    "describe(one.unsqueeze(0))\n",
    "describe(torch.unsqueeze(one, 0))\n",
    "describe(one[None,:,:])"
   ]
  },
  {
   "cell_type": "markdown",
   "metadata": {},
   "source": [
    "2"
   ]
  },
  {
   "cell_type": "code",
   "execution_count": 47,
   "metadata": {
    "ExecuteTime": {
     "end_time": "2019-09-25T05:03:58.900829Z",
     "start_time": "2019-09-25T05:03:58.881877Z"
    }
   },
   "outputs": [
    {
     "name": "stdout",
     "output_type": "stream",
     "text": [
      "Type: torch.FloatTensor\n",
      "Shape/size: torch.Size([3, 3])\n",
      "Values: \n",
      "tensor([[0.4270, 0.5472, 0.2485],\n",
      "        [0.8538, 0.4119, 0.2488],\n",
      "        [0.2655, 0.2981, 0.2311]])\n",
      "Type: torch.FloatTensor\n",
      "Shape/size: torch.Size([3, 3])\n",
      "Values: \n",
      "tensor([[0.4270, 0.5472, 0.2485],\n",
      "        [0.8538, 0.4119, 0.2488],\n",
      "        [0.2655, 0.2981, 0.2311]])\n"
     ]
    }
   ],
   "source": [
    "describe(one.unsqueeze(0).squeeze(0))\n",
    "describe(torch.squeeze(torch.unsqueeze(one, 0)))"
   ]
  },
  {
   "cell_type": "markdown",
   "metadata": {},
   "source": [
    "3"
   ]
  },
  {
   "cell_type": "code",
   "execution_count": 48,
   "metadata": {
    "ExecuteTime": {
     "end_time": "2019-09-25T05:03:58.915789Z",
     "start_time": "2019-09-25T05:03:58.902822Z"
    }
   },
   "outputs": [
    {
     "name": "stdout",
     "output_type": "stream",
     "text": [
      "Type: torch.FloatTensor\n",
      "Shape/size: torch.Size([5, 3])\n",
      "Values: \n",
      "tensor([[6.1781, 6.7948, 3.0571],\n",
      "        [6.1753, 6.4312, 3.4104],\n",
      "        [4.2131, 6.5430, 3.0883],\n",
      "        [3.9093, 5.2050, 3.7284],\n",
      "        [6.1543, 6.9596, 4.2145]])\n"
     ]
    }
   ],
   "source": [
    "describe(4 * torch.rand(5, 3) + 3)"
   ]
  },
  {
   "cell_type": "markdown",
   "metadata": {},
   "source": [
    "4"
   ]
  },
  {
   "cell_type": "code",
   "execution_count": 49,
   "metadata": {
    "ExecuteTime": {
     "end_time": "2019-09-25T05:03:58.926758Z",
     "start_time": "2019-09-25T05:03:58.917782Z"
    }
   },
   "outputs": [
    {
     "data": {
      "text/plain": [
       "tensor([[-0.3456, -0.6162,  1.2007],\n",
       "        [ 0.2832, -0.5967, -0.9135],\n",
       "        [-0.1894,  0.1335, -1.5971]])"
      ]
     },
     "execution_count": 49,
     "metadata": {},
     "output_type": "execute_result"
    }
   ],
   "source": [
    "torch.randn(3, 3)\n",
    "torch.rand(3, 3).normal_()"
   ]
  },
  {
   "cell_type": "markdown",
   "metadata": {},
   "source": [
    "5"
   ]
  },
  {
   "cell_type": "code",
   "execution_count": 50,
   "metadata": {
    "ExecuteTime": {
     "end_time": "2019-09-25T05:03:58.936730Z",
     "start_time": "2019-09-25T05:03:58.928752Z"
    }
   },
   "outputs": [
    {
     "data": {
      "text/plain": [
       "tensor([[0],\n",
       "        [1],\n",
       "        [2],\n",
       "        [4]])"
      ]
     },
     "execution_count": 50,
     "metadata": {},
     "output_type": "execute_result"
    }
   ],
   "source": [
    "torch.nonzero(torch.tensor([1,1,1,0,1]))"
   ]
  },
  {
   "cell_type": "markdown",
   "metadata": {},
   "source": [
    "6"
   ]
  },
  {
   "cell_type": "code",
   "execution_count": 51,
   "metadata": {
    "ExecuteTime": {
     "end_time": "2019-09-25T05:03:58.948701Z",
     "start_time": "2019-09-25T05:03:58.938726Z"
    }
   },
   "outputs": [
    {
     "data": {
      "text/plain": [
       "tensor([[[0.1121],\n",
       "         [0.2343],\n",
       "         [0.5677]],\n",
       "\n",
       "        [[0.1121],\n",
       "         [0.2343],\n",
       "         [0.5677]],\n",
       "\n",
       "        [[0.1121],\n",
       "         [0.2343],\n",
       "         [0.5677]],\n",
       "\n",
       "        [[0.1121],\n",
       "         [0.2343],\n",
       "         [0.5677]]])"
      ]
     },
     "execution_count": 51,
     "metadata": {},
     "output_type": "execute_result"
    }
   ],
   "source": [
    "x = torch.rand(3, 1)\n",
    "x.expand(4, 3, 1)"
   ]
  },
  {
   "cell_type": "markdown",
   "metadata": {},
   "source": [
    "7"
   ]
  },
  {
   "cell_type": "code",
   "execution_count": 52,
   "metadata": {
    "ExecuteTime": {
     "end_time": "2019-09-25T05:03:58.982607Z",
     "start_time": "2019-09-25T05:03:58.950694Z"
    }
   },
   "outputs": [
    {
     "name": "stdout",
     "output_type": "stream",
     "text": [
      "Type: torch.FloatTensor\n",
      "Shape/size: torch.Size([3, 4, 5])\n",
      "Values: \n",
      "tensor([[[3.4373e-01, 9.1124e-01, 3.0427e-02, 9.3244e-01, 1.3437e-01],\n",
      "         [1.0506e-01, 5.7745e-04, 4.6654e-01, 8.3675e-01, 8.9411e-01],\n",
      "         [3.4347e-02, 6.7840e-01, 7.1323e-01, 4.7030e-01, 4.5278e-01],\n",
      "         [7.1229e-01, 2.4006e-01, 9.9932e-02, 4.9990e-01, 6.4776e-01]],\n",
      "\n",
      "        [[9.4904e-01, 5.3112e-01, 3.5220e-01, 6.9380e-02, 1.1460e-01],\n",
      "         [1.6702e-01, 3.6145e-01, 5.0095e-01, 7.7478e-01, 8.7523e-01],\n",
      "         [7.9318e-01, 1.7031e-01, 2.7884e-01, 3.2972e-01, 5.3384e-01],\n",
      "         [3.0402e-01, 9.2304e-01, 4.8896e-01, 6.0123e-01, 6.3155e-01]],\n",
      "\n",
      "        [[3.2810e-01, 8.9415e-01, 3.1727e-02, 8.6620e-01, 6.9496e-01],\n",
      "         [3.7954e-01, 3.5068e-01, 2.6746e-01, 2.5060e-01, 9.6907e-01],\n",
      "         [3.4475e-01, 6.5019e-01, 7.6002e-01, 5.1548e-01, 4.2115e-01],\n",
      "         [8.6959e-01, 3.0305e-01, 2.9528e-01, 1.6845e-01, 2.0882e-02]]])\n",
      "Type: torch.FloatTensor\n",
      "Shape/size: torch.Size([3, 5, 4])\n",
      "Values: \n",
      "tensor([[[0.2329, 0.7780, 0.3832, 0.2944],\n",
      "         [0.8927, 0.8554, 0.8493, 0.1766],\n",
      "         [0.3929, 0.1895, 0.5668, 0.2309],\n",
      "         [0.9109, 0.8138, 0.3293, 0.2683],\n",
      "         [0.5935, 0.5221, 0.4245, 0.4336]],\n",
      "\n",
      "        [[0.9315, 0.9318, 0.5705, 0.9242],\n",
      "         [0.8531, 0.6842, 0.2095, 0.4158],\n",
      "         [0.7238, 0.2356, 0.4863, 0.9587],\n",
      "         [0.5219, 0.1687, 0.7552, 0.7003],\n",
      "         [0.3040, 0.6353, 0.2901, 0.9133]],\n",
      "\n",
      "        [[0.5683, 0.8369, 0.1006, 0.4070],\n",
      "         [0.4481, 0.6041, 0.2833, 0.6218],\n",
      "         [0.5452, 0.4854, 0.4573, 0.1612],\n",
      "         [0.1724, 0.9955, 0.3524, 0.4784],\n",
      "         [0.6588, 0.1176, 0.2483, 0.9700]]])\n",
      "Type: torch.FloatTensor\n",
      "Shape/size: torch.Size([3, 4, 4])\n",
      "Values: \n",
      "tensor([[[1.8346, 1.8816, 1.2870, 0.5775],\n",
      "         [1.5012, 1.3184, 0.9603, 0.7509],\n",
      "         [1.5910, 1.3613, 1.3407, 0.6171],\n",
      "         [1.2593, 1.5234, 0.9731, 0.6901]],\n",
      "\n",
      "        [[1.6630, 1.4152, 0.9096, 1.5888],\n",
      "         [1.4969, 1.2077, 1.2536, 2.1269],\n",
      "         [1.4203, 1.3161, 1.0276, 1.7896],\n",
      "         [1.9302, 1.5327, 1.2418, 2.1314]],\n",
      "\n",
      "        [[1.2116, 1.7741, 0.7786, 1.7831],\n",
      "         [1.2003, 1.0227, 0.5887, 1.4755],\n",
      "         [1.2679, 1.6129, 0.8526, 1.3222],\n",
      "         [0.8338, 1.2243, 0.3729, 0.6908]]])\n"
     ]
    }
   ],
   "source": [
    "a = torch.rand(3, 4, 5)\n",
    "b = torch.rand(3, 5, 4)\n",
    "describe(a)\n",
    "describe(b)\n",
    "describe(torch.bmm(a, b))"
   ]
  },
  {
   "cell_type": "markdown",
   "metadata": {},
   "source": [
    "8"
   ]
  },
  {
   "cell_type": "code",
   "execution_count": 53,
   "metadata": {
    "ExecuteTime": {
     "end_time": "2019-09-25T05:03:59.015520Z",
     "start_time": "2019-09-25T05:03:58.984602Z"
    }
   },
   "outputs": [
    {
     "name": "stdout",
     "output_type": "stream",
     "text": [
      "Type: torch.FloatTensor\n",
      "Shape/size: torch.Size([3, 4, 5])\n",
      "Values: \n",
      "tensor([[[0.4697, 0.8817, 0.8698, 0.8761, 0.4229],\n",
      "         [0.2700, 0.4112, 0.5515, 0.8236, 0.1751],\n",
      "         [0.1212, 0.4974, 0.9459, 0.1721, 0.8866],\n",
      "         [0.8884, 0.6462, 0.9219, 0.8386, 0.5173]],\n",
      "\n",
      "        [[0.9776, 0.9906, 0.9792, 0.8572, 0.4516],\n",
      "         [0.0498, 0.5790, 0.1815, 0.0837, 0.4870],\n",
      "         [0.2214, 0.2690, 0.0195, 0.5827, 0.7176],\n",
      "         [0.8437, 0.9128, 0.0573, 0.2995, 0.0990]],\n",
      "\n",
      "        [[0.0064, 0.5996, 0.9895, 0.8955, 0.0116],\n",
      "         [0.0515, 0.1882, 0.4647, 0.1592, 0.3514],\n",
      "         [0.3225, 0.4492, 0.1004, 0.7742, 0.1637],\n",
      "         [0.5131, 0.9332, 0.8274, 0.9776, 0.2662]]])\n",
      "Type: torch.FloatTensor\n",
      "Shape/size: torch.Size([5, 4])\n",
      "Values: \n",
      "tensor([[0.0660, 0.5198, 0.3591, 0.9431],\n",
      "        [0.8886, 0.7805, 0.5453, 0.2796],\n",
      "        [0.4010, 0.5946, 0.0192, 0.8797],\n",
      "        [0.4363, 0.8162, 0.5119, 0.2672],\n",
      "        [0.1379, 0.5124, 0.0374, 0.0953]])\n",
      "Type: torch.FloatTensor\n",
      "Shape/size: torch.Size([3, 4, 4])\n",
      "Values: \n",
      "tensor([[[1.6037, 2.3812, 1.1304, 1.7290],\n",
      "         [0.9879, 1.5512, 0.7599, 1.0915],\n",
      "         [1.0266, 1.6085, 0.4541, 1.2160],\n",
      "         [1.4397, 2.4637, 1.1377, 2.1028]],\n",
      "\n",
      "        [[1.7736, 2.7945, 1.3657, 2.3323],\n",
      "         [0.6943, 0.9036, 0.3981, 0.4373],\n",
      "         [0.6146, 1.1798, 0.5516, 0.5252],\n",
      "         [1.0341, 1.4802, 0.9589, 1.1908]],\n",
      "\n",
      "        [[1.3223, 1.7965, 0.8071, 1.2846],\n",
      "         [0.4749, 0.7600, 0.2247, 0.5860],\n",
      "         [0.8210, 1.2936, 0.7651, 0.7404],\n",
      "         [1.6580, 2.4212, 1.2193, 1.7592]]])\n"
     ]
    }
   ],
   "source": [
    "a = torch.rand(3, 4, 5)\n",
    "b = torch.rand(5, 4)\n",
    "describe(a)\n",
    "describe(b)\n",
    "describe(torch.bmm(a, b.unsqueeze(0).expand(a.size(0), *b.size())))"
   ]
  },
  {
   "cell_type": "markdown",
   "metadata": {},
   "source": [
    "<h1>Chapter 2</h1>"
   ]
  },
  {
   "cell_type": "markdown",
   "metadata": {},
   "source": [
    " - NLP and CL (computational linguistics) deal with human language.\n",
    "     - NLP aim: develop methods for solving practical language problems\n",
    "         - e.g. information extraction automatic speech recognition, machine translation, sentiment analysis, question answering, summarization etc.\n",
    "     - CL aim: understand properties of human language\n",
    "         - understand language, produce language, learn language, language relationships\n",
    "- CL and NLP work together and become their own fields (phonology, morphology, syntax, semantics, and pragmatics)"
   ]
  },
  {
   "cell_type": "markdown",
   "metadata": {},
   "source": [
    "<h2>Corpora, Tokens and Types</h2>"
   ]
  },
  {
   "cell_type": "markdown",
   "metadata": {},
   "source": [
    "- text dataset is called corpus or corpora (plural)\n",
    "    - contains raw text (usually ASCII or UTF-8 text encoding) and metadata\n",
    "- raw text is a sequence of characters(bytes)\n",
    "    - characers can be grouped into units called tokens\n",
    "        - in english tokens are words and numeric sequences separated by white space characters or punctuation"
   ]
  },
  {
   "cell_type": "markdown",
   "metadata": {},
   "source": [
    "- metadata: any auxilary piece of info associated with text\n",
    "    - e.g. identifiers, labels, timestamps etc.\n",
    "- text coupled with metadata is an instance/data point\n",
    "- corpus/dataset is collection of instances\n",
    "- tokenization: breaking text in tokens\n",
    "    - there are turtles (3 tokens: \"there\", \"are\", \"turtles\")\n",
    "- Agglutinative languages like Turkish need more than just splitting by punctuation and whitespace"
   ]
  },
  {
   "cell_type": "markdown",
   "metadata": {},
   "source": [
    "- Tokenizing tweets involves preserving hashtags and @handles, and segmenting smileys/emojis and URLS as a single unit.\n",
    "- NLTK and spaCy are two common packages for text processing"
   ]
  },
  {
   "cell_type": "code",
   "execution_count": 54,
   "metadata": {
    "ExecuteTime": {
     "end_time": "2019-09-25T05:04:00.700859Z",
     "start_time": "2019-09-25T05:03:59.017514Z"
    }
   },
   "outputs": [
    {
     "name": "stdout",
     "output_type": "stream",
     "text": [
      "['mary', ',', 'do', \"n't\", 'slap', 'the', 'green', 'witch']\n"
     ]
    }
   ],
   "source": [
    "import spacy\n",
    "nlp = spacy.load('en_core_web_sm')\n",
    "text = \"Mary, don't slap the green witch\"\n",
    "print([str(token) for token in nlp(text.lower())])"
   ]
  },
  {
   "cell_type": "code",
   "execution_count": 55,
   "metadata": {
    "ExecuteTime": {
     "end_time": "2019-09-25T05:04:01.456974Z",
     "start_time": "2019-09-25T05:04:00.702855Z"
    }
   },
   "outputs": [
    {
     "name": "stdout",
     "output_type": "stream",
     "text": [
      "['snow', 'white', 'and', 'the', 'seven', 'degrees', 'makeamoviecold', '@midnight', ':-)']\n"
     ]
    }
   ],
   "source": [
    "from nltk.tokenize import TweetTokenizer\n",
    "tweet = u\"Snow White and the Seven Degrees \\nMakeAMovieCold@midnight :-)\"\n",
    "tokenizer = TweetTokenizer()\n",
    "print(tokenizer.tokenize(tweet.lower()))"
   ]
  },
  {
   "cell_type": "markdown",
   "metadata": {},
   "source": [
    "- Types are unique tokens in a corpus.\n",
    "- set of all types is its vocabulary/lexicon\n",
    "- words are either content words or stopwords\n",
    "- stopwords such as articles and prepositions serve as grammar and are fillers for content words"
   ]
  },
  {
   "cell_type": "markdown",
   "metadata": {},
   "source": [
    "<h3>Feature Engineering</h3>"
   ]
  },
  {
   "cell_type": "markdown",
   "metadata": {},
   "source": [
    "- process of understanding linguistics of language\n",
    "- levaraging the above to solve the NLP problems\n",
    "- minimize feature engineering for convenience and portability"
   ]
  },
  {
   "cell_type": "markdown",
   "metadata": {},
   "source": [
    "<h2> Unigrams, Bigrams, Trigrams, ..., N-grams</h2>"
   ]
  },
  {
   "cell_type": "markdown",
   "metadata": {},
   "source": [
    "- N - grams are fixed length (n) consecutive token sequences occurring in the text.\n",
    "    - Bi - gram is two tokens, uni - gram is one token etc."
   ]
  },
  {
   "cell_type": "code",
   "execution_count": 56,
   "metadata": {
    "ExecuteTime": {
     "end_time": "2019-09-25T05:04:01.464971Z",
     "start_time": "2019-09-25T05:04:01.458968Z"
    }
   },
   "outputs": [
    {
     "name": "stdout",
     "output_type": "stream",
     "text": [
      "[['mary', ',', \"n't\"], [',', \"n't\", 'slap'], [\"n't\", 'slap', 'green'], ['slap', 'green', 'witch'], ['green', 'witch', '.']]\n"
     ]
    }
   ],
   "source": [
    "def n_grams(text, n):\n",
    "    '''\n",
    "    takes tokens or text, returns a list of n-grams\n",
    "    '''\n",
    "    return [text[i:i+n] for i in range (len(text) - n + 1)]\n",
    "\n",
    "cleaned = ['mary', ',', \"n't\", 'slap', 'green', 'witch', '.']\n",
    "print(n_grams(cleaned, 3))"
   ]
  },
  {
   "cell_type": "markdown",
   "metadata": {},
   "source": [
    "- character n - grams can be useful when subwords carry useful info\n",
    "    - e.g. suffix \"ol\" in \"methanol\" indicates alcohol\n",
    "- same code would work but just treat each letter as a token instead"
   ]
  },
  {
   "cell_type": "markdown",
   "metadata": {},
   "source": [
    "<h2>Lemmas and Stems</h2>"
   ]
  },
  {
   "cell_type": "markdown",
   "metadata": {},
   "source": [
    "- Lemma: root form of words\n",
    "    - e.g. fly: flow, flew, flies ,flown, flowing\n",
    "- token reduction to lemma keeps dimensionality of vector representation low: lemmatization"
   ]
  },
  {
   "cell_type": "code",
   "execution_count": 57,
   "metadata": {
    "ExecuteTime": {
     "end_time": "2019-09-25T05:04:01.682390Z",
     "start_time": "2019-09-25T05:04:01.466946Z"
    }
   },
   "outputs": [
    {
     "name": "stdout",
     "output_type": "stream",
     "text": [
      "he --> -PRON-\n",
      "was --> be\n",
      "running --> run\n",
      "late --> late\n"
     ]
    }
   ],
   "source": [
    "import spacy\n",
    "nlp = spacy.load('en_core_web_sm')\n",
    "doc = nlp(u\"he was running late\")\n",
    "for token in doc:\n",
    "    print('{} --> {}'.format(token, token.lemma_))"
   ]
  },
  {
   "cell_type": "markdown",
   "metadata": {},
   "source": [
    "- stemming is budget lemmatization\n",
    "- involves handcrafted rules to strip word endings into stems\n",
    "    - e.g. Porter and Snowball stemmers (google it)"
   ]
  },
  {
   "cell_type": "markdown",
   "metadata": {},
   "source": [
    "<h2>Categorizing Sentences and Documents</h2>"
   ]
  },
  {
   "cell_type": "markdown",
   "metadata": {},
   "source": [
    "- earliest applications of NLP\n",
    "- TF & TF-IDF immediately useful for classifying & categorizing large text\n",
    "- supverised document classification problmes:\n",
    "    - assiging topic labels\n",
    "    - predicting sentiment of reviews\n",
    "    - filtering spam emails\n",
    "    - language identification\n",
    "    - email triaging"
   ]
  },
  {
   "cell_type": "markdown",
   "metadata": {},
   "source": [
    "<h2>Categorizing Words: POS Tagging</h2>"
   ]
  },
  {
   "cell_type": "markdown",
   "metadata": {},
   "source": [
    "- labeling individual words/tokens\n",
    "- Part of speeching tagging is a example of token categorization"
   ]
  },
  {
   "cell_type": "code",
   "execution_count": 58,
   "metadata": {
    "ExecuteTime": {
     "end_time": "2019-09-25T05:04:01.882835Z",
     "start_time": "2019-09-25T05:04:01.684368Z"
    }
   },
   "outputs": [
    {
     "name": "stdout",
     "output_type": "stream",
     "text": [
      "Mary - PROPN\n",
      "slapped - VERB\n",
      "the - DET\n",
      "green - ADJ\n",
      "witch - NOUN\n",
      ". - PUNCT\n"
     ]
    }
   ],
   "source": [
    "nlp = spacy.load('en_core_web_sm')\n",
    "doc = nlp(u\"Mary slapped the green witch.\")\n",
    "for token in doc:\n",
    "    print('{} - {}'.format(token, token.pos_))"
   ]
  },
  {
   "cell_type": "markdown",
   "metadata": {},
   "source": [
    "<h2>Categorizing Spans: Chunking and Named Entity Recognition</h2>"
   ]
  },
  {
   "cell_type": "markdown",
   "metadata": {},
   "source": [
    "- often labeling span of text needed (contiguous multitoken boundary)\n",
    "    - e.g. Noun Phraes vs Verb Phrases\n",
    "    - \"Mary slapped the green witch.\"\n",
    "        - mary -> Noun Phrase\n",
    "        - slapped -> verb phrase\n",
    "- also called chunking/shallow parsing\n",
    "    - derive higher order units composed of nouns, verbs, adjectives etc.\n",
    "- possible to wite regex over POS tags to approximate shallow parsing if you cannot train your own shallow parsing model."
   ]
  },
  {
   "cell_type": "code",
   "execution_count": 59,
   "metadata": {
    "ExecuteTime": {
     "end_time": "2019-09-25T05:04:02.069336Z",
     "start_time": "2019-09-25T05:04:01.884829Z"
    }
   },
   "outputs": [
    {
     "name": "stdout",
     "output_type": "stream",
     "text": [
      "Mary - NP\n",
      "the green witch - NP\n"
     ]
    }
   ],
   "source": [
    "nlp = spacy.load('en_core_web_sm')\n",
    "doc = nlp(u\"Mary slapped the green witch.\")\n",
    "for chunk in doc.noun_chunks:\n",
    "    print('{} - {}'.format(chunk, chunk.label_))"
   ]
  },
  {
   "cell_type": "markdown",
   "metadata": {},
   "source": [
    "- Named entity also extremely useful for people, locations, organizations, etc."
   ]
  },
  {
   "cell_type": "markdown",
   "metadata": {},
   "source": [
    "<h2>Structure of Sentences</h2>"
   ]
  },
  {
   "cell_type": "markdown",
   "metadata": {},
   "source": [
    "- shallow parsing identifies phrasal units\n",
    "- parsing: identifying relationships between phrasal units\n",
    "- parse trees indicate hierarchy of different grammatical units\n",
    "    - e.g. constituent parse, dependency parse"
   ]
  },
  {
   "cell_type": "markdown",
   "metadata": {},
   "source": [
    "<h2>Word Senses and Semantics</h2>"
   ]
  },
  {
   "cell_type": "markdown",
   "metadata": {},
   "source": [
    "- Senses: different meanings of a word\n",
    "- WordNet: long running lexical resource project (princeton)\n",
    "    - catalogs senses of A LOT of english language\n",
    "    - lexical relationships between words as well"
   ]
  },
  {
   "cell_type": "markdown",
   "metadata": {},
   "source": [
    "<h1>Chapter 3: Foundational Components of Neural Netowrks</h1>"
   ]
  },
  {
   "cell_type": "markdown",
   "metadata": {},
   "source": [
    "- introduction\n",
    "    - activation functions\n",
    "    - loss functions\n",
    "    - optimizers\n",
    "    - supervised training setup\n",
    "- Perceptron: one-unit neural network\n",
    "    - building block to more complex neural networks\n",
    "    - every architecture or network can be standalone or used with other complex networks"
   ]
  },
  {
   "cell_type": "markdown",
   "metadata": {},
   "source": [
    "<h2>Perceptron: The Simplest Neural Network</h2>"
   ]
  },
  {
   "cell_type": "markdown",
   "metadata": {},
   "source": [
    "- modeled after biological neuron\n",
    "- \"signals\" flow from input and output\n"
   ]
  },
  {
   "cell_type": "markdown",
   "metadata": {},
   "source": [
    "<img src=\"images/3.1.png\">"
   ]
  },
  {
   "cell_type": "markdown",
   "metadata": {},
   "source": [
    "- weights and bias learned from data\n",
    "- activation function handpicked depending on creator's intuition of network & target ouput\n",
    "- mathematical expression: y = f(wx+b)\n",
    "    - x typically has multiple inputs thus x & w are vectors and wx represent a dot product\n",
    "- activation functions (f) are typically non - linear functions.\n",
    "- perceptron: composition of a linear and nonlinear function\n",
    "- wx + b also known as affine transform"
   ]
  },
  {
   "cell_type": "markdown",
   "metadata": {},
   "source": [
    "- perceptron implementation in PyTorch\n",
    "    - arbitrary number of inputs\n",
    "    - applies affine transform\n",
    "    - applies activation function\n",
    "    - produces output"
   ]
  },
  {
   "cell_type": "code",
   "execution_count": 60,
   "metadata": {
    "ExecuteTime": {
     "end_time": "2019-09-25T05:04:02.077316Z",
     "start_time": "2019-09-25T05:04:02.071362Z"
    }
   },
   "outputs": [],
   "source": [
    "import torch.nn as nn\n",
    "\n",
    "class Perceptron(nn.Module):\n",
    "    '''\n",
    "    A perceptron is one linear layer\n",
    "    '''\n",
    "    def __init__(self, input_dim):\n",
    "        '''\n",
    "        Args:\n",
    "            input_dim (int): size of the input features\n",
    "        '''\n",
    "        super(Perceptron, self).__init__()\n",
    "        self.fc1 = nn.Linear(input_dim, 1)\n",
    "        \n",
    "        def forward(self, x_in):\n",
    "            '''\n",
    "            Forward pass of the perceptron\n",
    "            Args:\n",
    "                x_in (torch.Tensor): an input data tensor x_in.shape should be (batch, num_features)\n",
    "            Returns:\n",
    "                the resulting tensor. tensor.shape should be (batch,).\n",
    "            '''\n",
    "            return torch.sigmoid(self.fc1(x_in)).squeeze()"
   ]
  },
  {
   "cell_type": "markdown",
   "metadata": {},
   "source": [
    "- Linear class in torch.nn module does bookkeeping for weights & biases and applies affine transform\n",
    "- sigmoid activation function used"
   ]
  },
  {
   "cell_type": "markdown",
   "metadata": {},
   "source": [
    "<h2>Activation Functions</h2>"
   ]
  },
  {
   "cell_type": "markdown",
   "metadata": {},
   "source": [
    "- nonlinearities introduced to neural network\n",
    "- caputre complex relationships\n",
    "- explained in \"Diving Deep into Supervised Training\" and \"Multilayer Perceptron\" why they're required\n",
    "- common activation functions"
   ]
  },
  {
   "cell_type": "markdown",
   "metadata": {},
   "source": [
    "<h3>Sigmoid</h3>"
   ]
  },
  {
   "cell_type": "markdown",
   "metadata": {},
   "source": [
    "- maps real number to value from 0 to 1\n",
    "- mathematical sigmoid: f(x) = (1 + e^-x)^-1\n",
    "- easy to see sigmoid is smooth & differentiable\n",
    "- torch code: torch.sigmoid()"
   ]
  },
  {
   "cell_type": "code",
   "execution_count": 61,
   "metadata": {
    "ExecuteTime": {
     "end_time": "2019-09-25T05:04:02.225915Z",
     "start_time": "2019-09-25T05:04:02.079309Z"
    }
   },
   "outputs": [
    {
     "data": {
      "image/png": "[encoded data removed]",
      "text/plain": [
       "<Figure size 432x288 with 1 Axes>"
      ]
     },
     "metadata": {
      "needs_background": "light"
     },
     "output_type": "display_data"
    }
   ],
   "source": [
    "import matplotlib.pyplot as plt\n",
    "\n",
    "x = torch.arange(-5., 5., 0.1)\n",
    "y = torch.sigmoid(x)\n",
    "plt.plot(x.numpy(), y.numpy())\n",
    "plt.show()"
   ]
  },
  {
   "cell_type": "markdown",
   "metadata": {},
   "source": [
    "- saturates\n",
    "- leads to\n",
    "    - gradient becoming zero (vanishing gradient problem)\n",
    "    - diverging to overflowing floating point value (exploding gradient problem)\n",
    "- rare to see use in neural nets except at output where squashing allows one to interpret output as probabilities"
   ]
  },
  {
   "cell_type": "markdown",
   "metadata": {},
   "source": [
    "<h3>Tanh</h3>"
   ]
  },
  {
   "cell_type": "markdown",
   "metadata": {},
   "source": [
    "- cosmetically different variant of sigmoid\n",
    "- mathematical expression: tanh(x) = (e^x-e^-x)/(e^x+e^-x)\n",
    "- tanh is linear transform of sigmoid function\n",
    "- also \"squashing\" function\n",
    "- maps from real numbers to -1 to 1"
   ]
  },
  {
   "cell_type": "code",
   "execution_count": 62,
   "metadata": {
    "ExecuteTime": {
     "end_time": "2019-09-25T05:04:02.368535Z",
     "start_time": "2019-09-25T05:04:02.227913Z"
    }
   },
   "outputs": [
    {
     "data": {
      "image/png": "[encoded data removed]",
      "text/plain": [
       "<Figure size 432x288 with 1 Axes>"
      ]
     },
     "metadata": {
      "needs_background": "light"
     },
     "output_type": "display_data"
    }
   ],
   "source": [
    "x = torch.arange(-5., 5., .1)\n",
    "y = torch.tanh(x)\n",
    "plt.plot(x.numpy(), y.numpy())\n",
    "plt.show()"
   ]
  },
  {
   "cell_type": "markdown",
   "metadata": {},
   "source": [
    "<h3>ReLU</h3>"
   ]
  },
  {
   "cell_type": "markdown",
   "metadata": {},
   "source": [
    "- Rectified Linear Unit\n",
    "- arguably most import activation function\n",
    "- mathematical expression: f(x) = max(0, x)"
   ]
  },
  {
   "cell_type": "code",
   "execution_count": 63,
   "metadata": {
    "ExecuteTime": {
     "end_time": "2019-09-25T05:04:02.554051Z",
     "start_time": "2019-09-25T05:04:02.370531Z"
    }
   },
   "outputs": [
    {
     "data": {
      "image/png": "[encoded data removed]",
      "text/plain": [
       "<Figure size 432x288 with 1 Axes>"
      ]
     },
     "metadata": {
      "needs_background": "light"
     },
     "output_type": "display_data"
    }
   ],
   "source": [
    "relu = torch.nn.ReLU()\n",
    "x = torch.arange(-5.,5.,.1)\n",
    "y = relu(x)\n",
    "plt.plot(x.numpy(), y.numpy())\n",
    "plt.show()"
   ]
  },
  {
   "cell_type": "markdown",
   "metadata": {},
   "source": [
    "- fixes the vanishing gradient problem but but trade off is the \"dying ReLU\"\n",
    "    - certain output become zero and never revive\n",
    "- to mitigate, leaky ReLU and Parametrix ReLU (PReLU) have been proposed\n",
    "    - leaked coefficient is learned\n",
    "- f(x) = max(x, ax)"
   ]
  },
  {
   "cell_type": "code",
   "execution_count": 64,
   "metadata": {
    "ExecuteTime": {
     "end_time": "2019-09-25T05:04:02.711619Z",
     "start_time": "2019-09-25T05:04:02.556033Z"
    }
   },
   "outputs": [
    {
     "data": {
      "image/png": "[encoded data removed]",
      "text/plain": [
       "<Figure size 432x288 with 1 Axes>"
      ]
     },
     "metadata": {
      "needs_background": "light"
     },
     "output_type": "display_data"
    }
   ],
   "source": [
    "prelu = torch.nn.PReLU(num_parameters=1)\n",
    "x = torch.arange(-5., 5., .1)\n",
    "y = prelu(x)\n",
    "plt.plot(x.numpy(), y.detach().numpy())\n",
    "plt.show()"
   ]
  },
  {
   "cell_type": "markdown",
   "metadata": {},
   "source": [
    "<h3>Softmax</h3>"
   ]
  },
  {
   "cell_type": "markdown",
   "metadata": {},
   "source": [
    "- squashes unit output from 0 to 1\n",
    "- also divides each output by sum of all output\n",
    "- provides descrete probability distribution over k classes"
   ]
  },
  {
   "cell_type": "markdown",
   "metadata": {},
   "source": [
    "<img src=\"images/3.6.png\">"
   ]
  },
  {
   "cell_type": "markdown",
   "metadata": {},
   "source": [
    "- resulting distribution sum up to one\n",
    "- useful for classification output interpretation\n",
    "- paired with probabilistic training objective (e.x. categorical cross entropy covered later)"
   ]
  },
  {
   "cell_type": "code",
   "execution_count": 65,
   "metadata": {
    "ExecuteTime": {
     "end_time": "2019-09-25T05:04:02.737549Z",
     "start_time": "2019-09-25T05:04:02.712628Z"
    },
    "scrolled": true
   },
   "outputs": [
    {
     "name": "stdout",
     "output_type": "stream",
     "text": [
      "Type: torch.FloatTensor\n",
      "Shape/size: torch.Size([1, 3])\n",
      "Values: \n",
      "tensor([[ 0.9467, -0.5813, -0.0360]])\n",
      "\n",
      "Type: torch.FloatTensor\n",
      "Shape/size: torch.Size([1, 3])\n",
      "Values: \n",
      "tensor([[0.6284, 0.1363, 0.2352]])\n",
      "\n",
      "Type: torch.FloatTensor\n",
      "Shape/size: torch.Size([1])\n",
      "Values: \n",
      "tensor([1.0000])\n"
     ]
    }
   ],
   "source": [
    "import torch.nn as nn\n",
    "softmax = nn.Softmax(dim=1)\n",
    "x_input = torch.randn(1, 3)\n",
    "y_output = softmax(x_input)\n",
    "describe(x_input)\n",
    "print(\"\")\n",
    "describe(y_output)\n",
    "print(\"\")\n",
    "describe(torch.sum(y_output, dim=1))"
   ]
  },
  {
   "cell_type": "markdown",
   "metadata": {},
   "source": [
    "<h2>Loss Functions</h2>"
   ]
  },
  {
   "cell_type": "markdown",
   "metadata": {},
   "source": [
    "- guides training algo to pick parameters suing data\n",
    "- provides score using prediction and truth\n",
    "- higher score equals worse prediction\n",
    "- commonly used below"
   ]
  },
  {
   "cell_type": "markdown",
   "metadata": {},
   "source": [
    "<h3>Mean Squared Error Loss</h3>"
   ]
  },
  {
   "cell_type": "markdown",
   "metadata": {},
   "source": [
    "- regression problems where target and output are continuous"
   ]
  },
  {
   "cell_type": "markdown",
   "metadata": {},
   "source": [
    "<img src=\"images/MSE.png\">"
   ]
  },
  {
   "cell_type": "markdown",
   "metadata": {},
   "source": [
    "- average of squared differences\n",
    "- other common regression loss functions\n",
    "    - mean absolute error, root mean squared error\n",
    "- all involve computing a real value difference between target and output"
   ]
  },
  {
   "cell_type": "code",
   "execution_count": 66,
   "metadata": {
    "ExecuteTime": {
     "end_time": "2019-09-25T05:04:02.751545Z",
     "start_time": "2019-09-25T05:04:02.739545Z"
    }
   },
   "outputs": [
    {
     "name": "stdout",
     "output_type": "stream",
     "text": [
      "tensor(1.0400, grad_fn=<MseLossBackward>)\n"
     ]
    }
   ],
   "source": [
    "mse_loss = nn.MSELoss()\n",
    "outputs = torch.randn(3, 5, requires_grad=True)\n",
    "targets = torch.randn(3, 5)\n",
    "loss = mse_loss(outputs, targets)\n",
    "print(loss)"
   ]
  },
  {
   "cell_type": "markdown",
   "metadata": {},
   "source": [
    "<h3>Categorical Cross - Entropy Loss</h3>"
   ]
  },
  {
   "cell_type": "markdown",
   "metadata": {},
   "source": [
    "- typical usage: multiclass classification where output is class membership probabilities\n",
    "- target is vector of n elements\n",
    "    - represents true multinomial distribution over all classes\n",
    "    - vector is one hot if only one true class\n",
    "- output is also size n\n",
    "    - models guess of distribution"
   ]
  },
  {
   "cell_type": "markdown",
   "metadata": {},
   "source": [
    "<img src=\"images/CCEL.png\">"
   ]
  },
  {
   "cell_type": "markdown",
   "metadata": {},
   "source": [
    "- method to compute distribution difference\n",
    "- float specific considerations for computing loss\n",
    "    - limit of float size\n",
    "    - large negative/postive in softmax is amplified\n",
    "    - network output is the layer before softmax\n",
    "    - log in cross_entropy inverses exponential\n",
    "- allows for softmax at final output to be used with cross-entropy to optimize"
   ]
  },
  {
   "cell_type": "code",
   "execution_count": 68,
   "metadata": {
    "ExecuteTime": {
     "end_time": "2019-09-25T05:26:06.579171Z",
     "start_time": "2019-09-25T05:26:06.562217Z"
    }
   },
   "outputs": [
    {
     "name": "stdout",
     "output_type": "stream",
     "text": [
      "tensor(3.0668, grad_fn=<NllLossBackward>)\n"
     ]
    }
   ],
   "source": [
    "ce_loss = nn.CrossEntropyLoss()\n",
    "outputs = torch.randn(3, 5, requires_grad=True)\n",
    "targets = torch. tensor([1, 0 ,3], dtype=torch.int64)\n",
    "loss = ce_loss(outputs, targets)\n",
    "print(loss)"
   ]
  },
  {
   "cell_type": "markdown",
   "metadata": {},
   "source": [
    "<h3>Binary Cross-Entropy Loss</h3>"
   ]
  },
  {
   "cell_type": "markdown",
   "metadata": {},
   "source": [
    "- between two classes\n",
    "- BCE"
   ]
  },
  {
   "cell_type": "code",
   "execution_count": 78,
   "metadata": {
    "ExecuteTime": {
     "end_time": "2019-09-25T05:40:20.429067Z",
     "start_time": "2019-09-25T05:40:20.412139Z"
    }
   },
   "outputs": [
    {
     "name": "stdout",
     "output_type": "stream",
     "text": [
      "tensor([[0.0773],\n",
      "        [0.7049],\n",
      "        [0.5438],\n",
      "        [0.5049]], grad_fn=<SigmoidBackward>)\n",
      "tensor(1.2730, grad_fn=<BinaryCrossEntropyBackward>)\n"
     ]
    }
   ],
   "source": [
    "bce_loss = nn.BCELoss()\n",
    "sigmoid = nn.Sigmoid()\n",
    "probabilities = sigmoid(torch.randn(4, 1, requires_grad=True))\n",
    "targets = torch.tensor([1, 0, 1, 0], dtype=torch.float32).view(4, 1)\n",
    "loss = bce_loss(probabilities, targets)\n",
    "print(probabilities)\n",
    "print(loss)"
   ]
  },
  {
   "cell_type": "markdown",
   "metadata": {},
   "source": [
    "<h2>Diving Deep into Supervised Training</h2>"
   ]
  },
  {
   "cell_type": "markdown",
   "metadata": {},
   "source": [
    "- supervised learning:\n",
    "    - map observations to targets given labeled examples\n",
    "- use model predictions & loss function for gradient-based optimization on model parameters\n",
    "- supervised learning requires:\n",
    "    - model\n",
    "        - computes prediction from observations\n",
    "    - loss function\n",
    "        - measures error of predictions to target\n",
    "    - training data\n",
    "        - observeration, target pairs\n",
    "    - optimization algorithm\n",
    "        - adjusts model's parameters to minimize the loss\n",
    "- classic toy problem:\n",
    "    - 2d points into two classes\n",
    "    - basically finding a boundary"
   ]
  },
  {
   "cell_type": "markdown",
   "metadata": {},
   "source": [
    "<h3>Constructing Toy Data</h3>"
   ]
  },
  {
   "cell_type": "markdown",
   "metadata": {},
   "source": [
    "- common practice:\n",
    "    - create synthetic data with understood properties to understand algorithms\n",
    "- sample points from two parts of x - y plane creating easy to learn situation for model"
   ]
  },
  {
   "cell_type": "markdown",
   "metadata": {},
   "source": [
    "<img src='images/3.2.png'>"
   ]
  },
  {
   "cell_type": "markdown",
   "metadata": {},
   "source": [
    "<h4>Choosing a model</h4>"
   ]
  },
  {
   "cell_type": "markdown",
   "metadata": {},
   "source": [
    "- perceptron:\n",
    "    - allows any input size\n",
    "        - input size generally determined by task and data\n",
    "    - input size is 2\n",
    "        - constructed data is in 2d plane\n",
    "    - numeric indices to classes: 0 & 1\n",
    "        - doesn't matter if circle is 0 or 1 and star is 0 or 1 as long as consistency kept\n",
    "    - perceptron activation function is sigmoid\n",
    "        - perceptron output is probability of datapoint being class 1\n",
    "        - P(y = 1|x)"
   ]
  },
  {
   "cell_type": "markdown",
   "metadata": {},
   "source": [
    "<h4>Converting the probabilities to discrete classes</h4>"
   ]
  },
  {
   "cell_type": "markdown",
   "metadata": {},
   "source": [
    "- impose decision boundary sigma\n",
    "- if P(Y=1|x) > sigma x is 1 else x is 0\n",
    "- typically boundary set to 0.5 but this hyperparameter is tuned to achieve desired precision in classification"
   ]
  },
  {
   "cell_type": "markdown",
   "metadata": {},
   "source": [
    "<h4>Choosing loss function</h4>"
   ]
  },
  {
   "cell_type": "markdown",
   "metadata": {},
   "source": [
    "- since situation is model ouput is probability cross entropy based loss is most appropriate\n",
    "- binary classification -> BCE loss"
   ]
  },
  {
   "cell_type": "markdown",
   "metadata": {},
   "source": [
    "<h4>Choosing an optimizer</h4>"
   ]
  },
  {
   "cell_type": "markdown",
   "metadata": {},
   "source": [
    "- optimizer updates wieghts of model using error signal\n",
    "- learning rate: hyperparameter that controls update behaviour of optimizer\n",
    "    - large learning rate\n",
    "        - causes bigger changes to parameter\n",
    "        - affects convergence\n",
    "    - small learning rate\n",
    "        - very little progress during training\n",
    "    - use default before tuning\n",
    "        - unless research paper says otherwise\n",
    "- Stochastic gradient descent is classic algorithm\n",
    "    - difficult optimization problems causes SGD to have convergence issues\n",
    "- preffered alternative:\n",
    "    - adaptive optimizers such as Adagrad/Adam\n",
    "        - Adam default learning rate = 0.001"
   ]
  },
  {
   "cell_type": "code",
   "execution_count": 79,
   "metadata": {
    "ExecuteTime": {
     "end_time": "2019-09-26T04:31:22.489459Z",
     "start_time": "2019-09-26T04:31:22.477439Z"
    }
   },
   "outputs": [],
   "source": [
    "import torch.optim as optim\n",
    "\n",
    "input_dim = 2\n",
    "lr=0.001\n",
    "\n",
    "perceptron = Perceptron(input_dim=input_dim)\n",
    "bce_loss = nn.BCELoss()\n",
    "optimizer = optim.Adam(params=perceptron.parameters(), lr=lr)"
   ]
  },
  {
   "cell_type": "markdown",
   "metadata": {},
   "source": [
    "<h4>Putting it Together: Gradient-Based Supervised Learning</h4>"
   ]
  },
  {
   "cell_type": "markdown",
   "metadata": {},
   "source": [
    "- forward pass for loss to see how far off current model is\n",
    "- gradient of loss ecomes signal for magnitude parameters should change\n",
    "- gradient for each parameter represents instantaneous rate of change in loss value given the parameter\n",
    "    - parameter's contribution to loss funciton\n",
    "- each parameter on own hill and wants to go down\n",
    "- iterative updating of each parameter with gradient of loss with respect to parameter"
   ]
  },
  {
   "cell_type": "markdown",
   "metadata": {},
   "source": [
    "- Gradient - stepping algo\n",
    "    - bookkeeping info such as gradients in model object cleared using zero_grad()\n",
    "    - computes output with input data (x_data -> y_pred)\n",
    "    - loss computed using prediction and target (loss(y_pred, y_target))\n",
    "    - pytorch loss object (criterion) has function backward()\n",
    "        - iteratively propagates loss backward through computational graph and notifies each parameter of its gradient\n",
    "    - optimizer instructs parameters how to update values knowing gradient with step() function\n",
    "- training dataset partitioned into batches\n",
    "- each iteration of gradient step performed on one data batch\n",
    "- hyperparameter named batch_size\n",
    "- training dataset is fixed ths larger batch size decreases number of batches\n",
    "- certain number of batches is an epoch (typically number of batches to go through entire dataset)\n",
    "- models are trained certain number of epochs\n",
    "- methods for determining how many epochs"
   ]
  },
  {
   "cell_type": "markdown",
   "metadata": {},
   "source": [
    "example 3-11"
   ]
  },
  {
   "cell_type": "code",
   "execution_count": 80,
   "metadata": {
    "ExecuteTime": {
     "end_time": "2019-10-01T03:08:56.281605Z",
     "start_time": "2019-10-01T03:08:56.134001Z"
    }
   },
   "outputs": [
    {
     "ename": "NameError",
     "evalue": "name 'n_epochs' is not defined",
     "output_type": "error",
     "traceback": [
      "\u001b[1;31m---------------------------------------------------------------------------\u001b[0m",
      "\u001b[1;31mNameError\u001b[0m                                 Traceback (most recent call last)",
      "\u001b[1;32m<ipython-input-80-385cce327596>\u001b[0m in \u001b[0;36m<module>\u001b[1;34m\u001b[0m\n\u001b[0;32m      1\u001b[0m \u001b[1;31m# each epoch is complete pass over train data\u001b[0m\u001b[1;33m\u001b[0m\u001b[1;33m\u001b[0m\u001b[1;33m\u001b[0m\u001b[0m\n\u001b[1;32m----> 2\u001b[1;33m \u001b[1;32mfor\u001b[0m \u001b[0mepoch_i\u001b[0m \u001b[1;32min\u001b[0m \u001b[0mrange\u001b[0m\u001b[1;33m(\u001b[0m\u001b[0mn_epochs\u001b[0m\u001b[1;33m)\u001b[0m\u001b[1;33m:\u001b[0m\u001b[1;33m\u001b[0m\u001b[1;33m\u001b[0m\u001b[0m\n\u001b[0m\u001b[0;32m      3\u001b[0m \u001b[1;33m\u001b[0m\u001b[0m\n\u001b[0;32m      4\u001b[0m     \u001b[1;31m# Step 0: Get Data\u001b[0m\u001b[1;33m\u001b[0m\u001b[1;33m\u001b[0m\u001b[1;33m\u001b[0m\u001b[0m\n\u001b[0;32m      5\u001b[0m     \u001b[0mx_data\u001b[0m\u001b[1;33m,\u001b[0m \u001b[0my_data\u001b[0m \u001b[1;33m=\u001b[0m \u001b[0mget_toy_data\u001b[0m\u001b[1;33m(\u001b[0m\u001b[0mbatch_size\u001b[0m\u001b[1;33m)\u001b[0m\u001b[1;33m\u001b[0m\u001b[1;33m\u001b[0m\u001b[0m\n",
      "\u001b[1;31mNameError\u001b[0m: name 'n_epochs' is not defined"
     ]
    }
   ],
   "source": [
    "# each epoch is complete pass over train data\n",
    "for epoch_i in range(n_epochs):\n",
    "    \n",
    "    # Step 0: Get Data\n",
    "    x_data, y_data = get_toy_data(batch_size)\n",
    "    \n",
    "    # Step 1: Clear the gradients\n",
    "    perceptron.zero_grad()\n",
    "    \n",
    "    # Step 2: Compute the forward pass of the model\n",
    "    y_pred = perceptron(x_data, apply_sigmoid=True)\n",
    "    \n",
    "    # Step 3: Compute the loss value that we wish to optimize\n",
    "    loss = bce_loss(y_pred, y_target)\n",
    "    \n",
    "    # step 4 Propagate the loss signal backward\n",
    "    loss.backward()\n",
    "    \n",
    "    # Step 5: Trigger the optimizer to perform one update\n",
    "    optimizer.step()"
   ]
  },
  {
   "cell_type": "markdown",
   "metadata": {},
   "source": [
    "<h2>Auxiliary Training Concepts</h2>"
   ]
  },
  {
   "cell_type": "markdown",
   "metadata": {},
   "source": [
    "- Core idea of supervised gradient-based learning:\n",
    "    - define model\n",
    "    - compute outputs\n",
    "    - use loss to compute gradients\n",
    "    - apply optimizer to update model parameters with gradient\n",
    "- following is important auxiliary concepts"
   ]
  },
  {
   "cell_type": "markdown",
   "metadata": {},
   "source": [
    "<h3>Correctly Measuring Model Performance: Evaluation Metrics</h3>"
   ]
  },
  {
   "cell_type": "markdown",
   "metadata": {},
   "source": [
    "- most important non core concept\n",
    "- objective performance measure on data model has never seen\n",
    "- most common is accuracy:\n",
    "    - fraction of predictions correct on data not seen during training"
   ]
  },
  {
   "cell_type": "markdown",
   "metadata": {},
   "source": [
    "<h3>Correctly Measuring Model Performance: Dataset Split</h3>"
   ]
  },
  {
   "cell_type": "markdown",
   "metadata": {},
   "source": [
    "- goal is to always generalize well to true distribution of data\n",
    "- there exists distribution of data globally assuming we can see infinite amount of data\n",
    "    - true/unseen distribution\n",
    "- finite distribution that approximates incomplete picture of true distribution\n",
    "- better generalization:\n",
    "    - reduces error on samples in training AND samples from unseen distribution\n",
    "- careful of model adapting to idiosyncrasies (overfitting)"
   ]
  },
  {
   "cell_type": "markdown",
   "metadata": {},
   "source": [
    "- standard practices: \n",
    "    - split dataset into three randomly sampled partitions\n",
    "        - training, validation, test\n",
    "        - simpler method\n",
    "        - single computation\n",
    "        - make sure distribution of classes remain same between each three split\n",
    "            - aggregate dataset by class label then random split each set separated by class label\n",
    "        - common split ratio\n",
    "            - 70% training\n",
    "            - 15% validation\n",
    "            - 15% testing\n",
    "    - k-fold cross validation\n",
    "        - split entire dataset into k equally sized 'folds'\n",
    "        - 1 fold reserved for evaluation and the ramining used for training\n",
    "        - iteratively repeated with different fold as evaluation\n",
    "        - obtain k accuracy values\n",
    "        - final accuracy is average with standard deviation\n",
    "        - computationally expensive but necessary for smaller datasets\n",
    "            - helps avoid when test data has harder/easir examples\n",
    "- predefined training, validation and test split may exiust: common in benchmarking tasks\n",
    "    - training data: update model parameters\n",
    "    - validation data: measuring model performance at end of every epoch\n",
    "    - test data: after all modeling choices explored and final results needed\n",
    "        - super important to avoid bias"
   ]
  },
  {
   "cell_type": "markdown",
   "metadata": {},
   "source": [
    "<h3>Knowing when to stop training</h3>"
   ]
  },
  {
   "cell_type": "markdown",
   "metadata": {},
   "source": [
    "- simplest approach: fixed epoch training\n",
    "    - arbitrary and unnecessary\n",
    "- correctly measuring model performance helps determine when to stop training\n",
    "- common method is to use a heuristic called 'early stopping'\n",
    "    - keeps track of performance on validation dataset, epoch to epoch\n",
    "    - performance does not improve -> training terminates\n",
    "    - patience: number of epochs it waits before termination\n",
    "    - model convergence: model stops improving on some dataset\n",
    "        - rarely wait for model to completely converge\n",
    "            - b/c time consuming & can lead to overfitting"
   ]
  },
  {
   "cell_type": "markdown",
   "metadata": {},
   "source": [
    "<h3>Finding right Hyperparameters</h3>"
   ]
  },
  {
   "cell_type": "markdown",
   "metadata": {},
   "source": [
    "- parameter\n",
    "    - takes real values adjusted by optimizer with respect to fixed subset of training data called minibatch\n",
    "- hyperparameter\n",
    "    - model setting that affects\n",
    "        - number of parameters\n",
    "        - values taken by parameters\n",
    "    - e.g. loss function, optimizer, learning rates for optimizer, layer size, patience for early stopping, regularization decisions\n",
    "    - decisions have large effect on model convergence and performance"
   ]
  },
  {
   "cell_type": "markdown",
   "metadata": {},
   "source": [
    "<h3>Regularization</h3>"
   ]
  },
  {
   "cell_type": "markdown",
   "metadata": {},
   "source": [
    "- comes from numerical optimization theory\n",
    "- ml algorithms optimize loss function to find most likely values of parameters\n",
    "- there could be multiple solutions\n",
    "- consider the image"
   ]
  },
  {
   "cell_type": "markdown",
   "metadata": {},
   "source": [
    "<img src='images/3.3.png'>"
   ]
  },
  {
   "cell_type": "markdown",
   "metadata": {},
   "source": [
    "- occam's razor: simpler explanation is more likely\n",
    "- smoothness constraint is called L2 Regularization\n",
    "- controlled by weight_decay parameter in optimizer\n",
    "    - larger wegiht_decay value -> more likely optimizer will select smoother explanation\n",
    "- L1 regularization also popular\n",
    "    - encourages sparser solutions\n",
    "    - model parameter values closer to zero\n",
    "- chapter 4 looks at dropout\n",
    "    - structural regularization technique\n",
    "- active research area\n",
    "- pytorch flexible for implementing custom regularizers"
   ]
  },
  {
   "cell_type": "markdown",
   "metadata": {},
   "source": [
    "<h2>Example: Classifying Sentiment of Restaurant Reviews</h2>"
   ]
  },
  {
   "cell_type": "markdown",
   "metadata": {},
   "source": [
    "- classify whether restaurant reviews on Yelp are positive or negative using a perceptron and supervised training\n",
    "- Dataset\n",
    "    - Yelp dataset\n",
    "        - pairs reviews with sentiment label\n",
    "            - positive or negative\n",
    "- three assisting classes\n",
    "    - Vocabulary\n",
    "        - token to integer mappings\n",
    "        - also maps class labels to integers\n",
    "    - Vectorizer\n",
    "        - encapsulates vocabularies\n",
    "        - responsible for ingesting string data\n",
    "        - e.g. review's text -> numerical vectors\n",
    "    - DataLoader\n",
    "        - groups and collates individual vectorized data into minibatches"
   ]
  },
  {
   "cell_type": "markdown",
   "metadata": {},
   "source": [
    "<h3>The Yelp Review Dataset</h3>"
   ]
  },
  {
   "cell_type": "markdown",
   "metadata": {},
   "source": [
    "- 2015 Yelp Contest: predict rating of restaurant given a review\n",
    "    - Zhang, Zhao, and Lecun (2015) simpliefied dataset\n",
    "        - converted 1 star and 2 star to negative\n",
    "        - 3 and 4 star are positive\n",
    "    - 560 000 training samples / 38 000 testing samples\n",
    "- use simplified yelp dataset"
   ]
  },
  {
   "cell_type": "markdown",
   "metadata": {},
   "source": [
    "- dataset difference, we select only 10% of training samples as full dataset\n",
    "    - training - testing loop fast so we can experiment more quickly\n",
    "    - model has lower accuracy\n",
    "        - not major issue since we can retrain entire datset using knowledge gained from smaller subset"
   ]
  },
  {
   "cell_type": "markdown",
   "metadata": {},
   "source": [
    "- from smaller subset, tri partition data: training, validation, testing\n",
    "- if model decisions are based on held out portion model will be biased towards held out data\n",
    "    - training partition derives model parameters\n",
    "    - validation partition selects among hyperparameters\n",
    "    - testing is only for final model evaluation\n",
    "- Example 3-12: splits dataset\n",
    "- Notes\n",
    "    - seed set to a static number\n",
    "    - aggregate by class label to gurantee class distribution remains same"
   ]
  },
  {
   "cell_type": "markdown",
   "metadata": {},
   "source": []
  }
 ],
 "metadata": {
  "kernelspec": {
   "display_name": "Python 3",
   "language": "python",
   "name": "python3"
  },
  "language_info": {
   "codemirror_mode": {
    "name": "ipython",
    "version": 3
   },
   "file_extension": ".py",
   "mimetype": "text/x-python",
   "name": "python",
   "nbconvert_exporter": "python",
   "pygments_lexer": "ipython3",
   "version": "3.7.3"
  },
  "toc": {
   "base_numbering": 1,
   "nav_menu": {},
   "number_sections": true,
   "sideBar": true,
   "skip_h1_title": false,
   "title_cell": "Table of Contents",
   "title_sidebar": "Contents",
   "toc_cell": false,
   "toc_position": {},
   "toc_section_display": true,
   "toc_window_display": false
  },
  "varInspector": {
   "cols": {
    "lenName": 16,
    "lenType": 16,
    "lenVar": 40
   },
   "kernels_config": {
    "python": {
     "delete_cmd_postfix": "",
     "delete_cmd_prefix": "del ",
     "library": "var_list.py",
     "varRefreshCmd": "print(var_dic_list())"
    },
    "r": {
     "delete_cmd_postfix": ") ",
     "delete_cmd_prefix": "rm(",
     "library": "var_list.r",
     "varRefreshCmd": "cat(var_dic_list()) "
    }
   },
   "types_to_exclude": [
    "module",
    "function",
    "builtin_function_or_method",
    "instance",
    "_Feature"
   ],
   "window_display": false
  }
 },
 "nbformat": 4,
 "nbformat_minor": 2
}
